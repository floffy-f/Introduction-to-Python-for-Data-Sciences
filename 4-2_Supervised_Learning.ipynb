{
 "cells": [
  {
   "cell_type": "markdown",
   "metadata": {},
   "source": [
    "\n",
    "<table>\n",
    "<tr>\n",
    "<td width=15%><img src=\"./img/UGA.png\"></img></td>\n",
    "<td><center><h1>Introduction to Python for Data Sciences</h1></center></td>\n",
    "<td width=15%><a href=\"http://www.iutzeler.org\" style=\"font-size: 16px; font-weight: bold\">Franck Iutzeler</a> </td>\n",
    "</tr>\n",
    "</table>\n",
    "\n"
   ]
  },
  {
   "cell_type": "markdown",
   "metadata": {},
   "source": [
    "<br/><br/>\n",
    "\n",
    "<center><a style=\"font-size: 40pt; font-weight: bold\">Chap. 4 - Scikit Learn </a></center> \n",
    "\n",
    "<br/><br/>"
   ]
  },
  {
   "cell_type": "markdown",
   "metadata": {},
   "source": [
    "# 2- Supervised Learning"
   ]
  },
  {
   "cell_type": "markdown",
   "metadata": {},
   "source": [
    "In the session, we will investigate some *examples* on how to deal with popular learning problems using standard algorithms. Many other problems and algorithms exist so this course is not at all exhaustive. \n"
   ]
  },
  {
   "cell_type": "markdown",
   "metadata": {},
   "source": [
    "## Classification\n"
   ]
  },
  {
   "cell_type": "code",
   "execution_count": 6,
   "metadata": {
    "tags": []
   },
   "outputs": [
    {
     "name": "stdout",
     "output_type": "stream",
     "text": [
      "[[  6.37734541 -10.61510727]\n",
      " [  6.50072722  -3.82403586]\n",
      " [  4.29225906  -8.99220442]\n",
      " [  7.39169472  -3.1266933 ]\n",
      " [  7.64306311 -10.02356892]] [1 0 1 0 1]\n"
     ]
    },
    {
     "data": {
      "text/plain": [
       "<matplotlib.collections.PathCollection at 0x13306f850>"
      ]
     },
     "execution_count": 6,
     "metadata": {},
     "output_type": "execute_result"
    },
    {
     "data": {
      "image/png": "[encoded data removed]",
      "text/plain": [
       "<Figure size 640x480 with 1 Axes>"
      ]
     },
     "metadata": {},
     "output_type": "display_data"
    },
    {
     "name": "stderr",
     "output_type": "stream",
     "text": [
      "6:80: E501 line too long (111 > 79 characters)\n"
     ]
    }
   ],
   "source": [
    "import numpy as np\n",
    "import matplotlib.pyplot as plt\n",
    "from sklearn.datasets import make_blobs\n",
    "%matplotlib inline\n",
    "\n",
    "# we create 40 separable points in R^2 around 2 centers (random_state=6 is a seed so that the set is separable)\n",
    "X, y = make_blobs(n_samples=40, n_features=2, centers=2, random_state=6)\n",
    "\n",
    "print(X[:5, :], y[:5])  # print the first 5 points and labels\n",
    "\n",
    "plt.scatter(X[:, 0], X[:, 1], c=y,  cmap=plt.cm.Paired)"
   ]
  },
  {
   "cell_type": "markdown",
   "metadata": {},
   "source": [
    "Support Vector Machines (SVM) are based on learning a vector $w$ and an intercept $b$ such that the hyperplane $w^T x - b = 0$ separates the data i.e.  $a$ belongs to one class if  $w^T a - b > 0$ and the other elsewhere. \n",
    "\n",
    "\n",
    "They were later extended to *Kernel methods* that is  $\\kappa(w, a) - b = 0$ is now the separating *curve* where $\\kappa$ is the *kernel*, typically:\n",
    "* linear: $\\kappa(x,y)= x^T y$ (original SVM) \n",
    "* polynomial: $\\kappa(x,y)= (x^T y)^d$ \n",
    "* Gaussian radial basis function (rfb):   $\\kappa(x,y)= \\exp( - \\gamma \\| x - y \\|^2 )$"
   ]
  },
  {
   "cell_type": "code",
   "execution_count": 8,
   "metadata": {
    "tags": []
   },
   "outputs": [
    {
     "data": {
      "text/html": [
       "<style>#sk-container-id-3 {color: black;}#sk-container-id-3 pre{padding: 0;}#sk-container-id-3 div.sk-toggleable {background-color: white;}#sk-container-id-3 label.sk-toggleable__label {cursor: pointer;display: block;width: 100%;margin-bottom: 0;padding: 0.3em;box-sizing: border-box;text-align: center;}#sk-container-id-3 label.sk-toggleable__label-arrow:before {content: \"▸\";float: left;margin-right: 0.25em;color: #696969;}#sk-container-id-3 label.sk-toggleable__label-arrow:hover:before {color: black;}#sk-container-id-3 div.sk-estimator:hover label.sk-toggleable__label-arrow:before {color: black;}#sk-container-id-3 div.sk-toggleable__content {max-height: 0;max-width: 0;overflow: hidden;text-align: left;background-color: #f0f8ff;}#sk-container-id-3 div.sk-toggleable__content pre {margin: 0.2em;color: black;border-radius: 0.25em;background-color: #f0f8ff;}#sk-container-id-3 input.sk-toggleable__control:checked~div.sk-toggleable__content {max-height: 200px;max-width: 100%;overflow: auto;}#sk-container-id-3 input.sk-toggleable__control:checked~label.sk-toggleable__label-arrow:before {content: \"▾\";}#sk-container-id-3 div.sk-estimator input.sk-toggleable__control:checked~label.sk-toggleable__label {background-color: #d4ebff;}#sk-container-id-3 div.sk-label input.sk-toggleable__control:checked~label.sk-toggleable__label {background-color: #d4ebff;}#sk-container-id-3 input.sk-hidden--visually {border: 0;clip: rect(1px 1px 1px 1px);clip: rect(1px, 1px, 1px, 1px);height: 1px;margin: -1px;overflow: hidden;padding: 0;position: absolute;width: 1px;}#sk-container-id-3 div.sk-estimator {font-family: monospace;background-color: #f0f8ff;border: 1px dotted black;border-radius: 0.25em;box-sizing: border-box;margin-bottom: 0.5em;}#sk-container-id-3 div.sk-estimator:hover {background-color: #d4ebff;}#sk-container-id-3 div.sk-parallel-item::after {content: \"\";width: 100%;border-bottom: 1px solid gray;flex-grow: 1;}#sk-container-id-3 div.sk-label:hover label.sk-toggleable__label {background-color: #d4ebff;}#sk-container-id-3 div.sk-serial::before {content: \"\";position: absolute;border-left: 1px solid gray;box-sizing: border-box;top: 0;bottom: 0;left: 50%;z-index: 0;}#sk-container-id-3 div.sk-serial {display: flex;flex-direction: column;align-items: center;background-color: white;padding-right: 0.2em;padding-left: 0.2em;position: relative;}#sk-container-id-3 div.sk-item {position: relative;z-index: 1;}#sk-container-id-3 div.sk-parallel {display: flex;align-items: stretch;justify-content: center;background-color: white;position: relative;}#sk-container-id-3 div.sk-item::before, #sk-container-id-3 div.sk-parallel-item::before {content: \"\";position: absolute;border-left: 1px solid gray;box-sizing: border-box;top: 0;bottom: 0;left: 50%;z-index: -1;}#sk-container-id-3 div.sk-parallel-item {display: flex;flex-direction: column;z-index: 1;position: relative;background-color: white;}#sk-container-id-3 div.sk-parallel-item:first-child::after {align-self: flex-end;width: 50%;}#sk-container-id-3 div.sk-parallel-item:last-child::after {align-self: flex-start;width: 50%;}#sk-container-id-3 div.sk-parallel-item:only-child::after {width: 0;}#sk-container-id-3 div.sk-dashed-wrapped {border: 1px dashed gray;margin: 0 0.4em 0.5em 0.4em;box-sizing: border-box;padding-bottom: 0.4em;background-color: white;}#sk-container-id-3 div.sk-label label {font-family: monospace;font-weight: bold;display: inline-block;line-height: 1.2em;}#sk-container-id-3 div.sk-label-container {text-align: center;}#sk-container-id-3 div.sk-container {/* jupyter's `normalize.less` sets `[hidden] { display: none; }` but bootstrap.min.css set `[hidden] { display: none !important; }` so we also need the `!important` here to be able to override the default hidden behavior on the sphinx rendered scikit-learn.org. See: https://github.com/scikit-learn/scikit-learn/issues/21755 */display: inline-block !important;position: relative;}#sk-container-id-3 div.sk-text-repr-fallback {display: none;}</style><div id=\"sk-container-id-3\" class=\"sk-top-container\"><div class=\"sk-text-repr-fallback\"><pre>SVC(kernel=&#x27;linear&#x27;)</pre><b>In a Jupyter environment, please rerun this cell to show the HTML representation or trust the notebook. <br />On GitHub, the HTML representation is unable to render, please try loading this page with nbviewer.org.</b></div><div class=\"sk-container\" hidden><div class=\"sk-item\"><div class=\"sk-estimator sk-toggleable\"><input class=\"sk-toggleable__control sk-hidden--visually\" id=\"sk-estimator-id-3\" type=\"checkbox\" checked><label for=\"sk-estimator-id-3\" class=\"sk-toggleable__label sk-toggleable__label-arrow\">SVC</label><div class=\"sk-toggleable__content\"><pre>SVC(kernel=&#x27;linear&#x27;)</pre></div></div></div></div></div>"
      ],
      "text/plain": [
       "SVC(kernel='linear')"
      ]
     },
     "execution_count": 8,
     "metadata": {},
     "output_type": "execute_result"
    }
   ],
   "source": [
    "from sklearn.svm import SVC  # Support vector classifier i.e. Classifier by SVM\n",
    "\n",
    "modelSVMLinear = SVC(kernel=\"linear\")\n",
    "modelSVMLinear.fit(X, y)"
   ]
  },
  {
   "cell_type": "markdown",
   "metadata": {},
   "source": [
    "The following illustration can be found in the [Python Data Science Handbook](http://shop.oreilly.com/product/0636920034919.do) by Jake VanderPlas."
   ]
  },
  {
   "cell_type": "code",
   "execution_count": 13,
   "metadata": {
    "tags": []
   },
   "outputs": [],
   "source": [
    "def plot_svc_decision_function(model, ax=None, plot_support=True):\n",
    "    \"\"\"Plot the decision function for a 2D SVC\"\"\"\n",
    "    if ax is None:\n",
    "        ax = plt.gca()\n",
    "    xlim = ax.get_xlim()\n",
    "    ylim = ax.get_ylim()\n",
    "\n",
    "    # create grid to evaluate model\n",
    "    x = np.linspace(xlim[0], xlim[1], 30)\n",
    "    y = np.linspace(ylim[0], ylim[1], 30)\n",
    "    Y, X = np.meshgrid(y, x)\n",
    "    xy = np.vstack([X.ravel(), Y.ravel()]).T\n",
    "    P = model.decision_function(xy).reshape(X.shape)\n",
    "\n",
    "    # plot decision boundary and margins\n",
    "    ax.contour(X, Y, P, colors='k',\n",
    "               levels=[-1, 0, 1], alpha=0.5,\n",
    "               linestyles=['--', '-', '--'])\n",
    "\n",
    "    # plot support vectors\n",
    "    if plot_support:\n",
    "        ax.scatter(model.support_vectors_[:, 0],\n",
    "                   model.support_vectors_[:, 1],\n",
    "                   s=300, linewidth=1, facecolors='none')\n",
    "\n",
    "    ax.set_xlim(xlim)\n",
    "    ax.set_ylim(ylim)"
   ]
  },
  {
   "cell_type": "code",
   "execution_count": 15,
   "metadata": {
    "tags": []
   },
   "outputs": [
    {
     "data": {
      "image/png": "[encoded data removed]",
      "text/plain": [
       "<Figure size 640x480 with 1 Axes>"
      ]
     },
     "metadata": {},
     "output_type": "display_data"
    }
   ],
   "source": [
    "plt.scatter(X[:, 0], X[:, 1], c=y,  cmap=plt.cm.Paired)\n",
    "plot_svc_decision_function(modelSVMLinear)"
   ]
  },
  {
   "cell_type": "markdown",
   "metadata": {},
   "source": [
    "We see clearly that the linear SVM seeks at maximizing the *margin* between the hyperplane and the two well defined classes from the data."
   ]
  },
  {
   "cell_type": "markdown",
   "metadata": {},
   "source": [
    "### Non-separable data\n",
    "\n",
    "In real cases, the data is usually not linearly separable as before."
   ]
  },
  {
   "cell_type": "code",
   "execution_count": 17,
   "metadata": {
    "tags": []
   },
   "outputs": [
    {
     "data": {
      "text/plain": [
       "<matplotlib.collections.PathCollection at 0x133315110>"
      ]
     },
     "execution_count": 17,
     "metadata": {},
     "output_type": "execute_result"
    },
    {
     "data": {
      "image/png": "[encoded data removed]",
      "text/plain": [
       "<Figure size 640x480 with 1 Axes>"
      ]
     },
     "metadata": {},
     "output_type": "display_data"
    },
    {
     "name": "stderr",
     "output_type": "stream",
     "text": [
      "1:80: E501 line too long (108 > 79 characters)\n"
     ]
    }
   ],
   "source": [
    "# we create points in R^2 around 2 centers (random_state=48443 is a seed so that the set is *not* separable)\n",
    "X, y = make_blobs(n_samples=100, n_features=2, centers=2, random_state=48443)\n",
    "\n",
    "plt.scatter(X[:, 0], X[:, 1], c=y,  cmap=plt.cm.Paired)"
   ]
  },
  {
   "cell_type": "markdown",
   "metadata": {},
   "source": [
    "Let us use the *same* linear SVM classifier. Obviously, there are *misclassified points*, the model is thus learnt not by maximizing the margin (which does not exist anymore) but by minimizing a penalty over misclassified data. This penalty takes the form of an allowance margin controlled by a parameter $C$. The smaller $C$ the more inclusive the margin. Finding a good value for $C$ is up to the data scientist."
   ]
  },
  {
   "cell_type": "code",
   "execution_count": 22,
   "metadata": {
    "tags": []
   },
   "outputs": [
    {
     "data": {
      "text/html": [
       "<style>#sk-container-id-8 {color: black;}#sk-container-id-8 pre{padding: 0;}#sk-container-id-8 div.sk-toggleable {background-color: white;}#sk-container-id-8 label.sk-toggleable__label {cursor: pointer;display: block;width: 100%;margin-bottom: 0;padding: 0.3em;box-sizing: border-box;text-align: center;}#sk-container-id-8 label.sk-toggleable__label-arrow:before {content: \"▸\";float: left;margin-right: 0.25em;color: #696969;}#sk-container-id-8 label.sk-toggleable__label-arrow:hover:before {color: black;}#sk-container-id-8 div.sk-estimator:hover label.sk-toggleable__label-arrow:before {color: black;}#sk-container-id-8 div.sk-toggleable__content {max-height: 0;max-width: 0;overflow: hidden;text-align: left;background-color: #f0f8ff;}#sk-container-id-8 div.sk-toggleable__content pre {margin: 0.2em;color: black;border-radius: 0.25em;background-color: #f0f8ff;}#sk-container-id-8 input.sk-toggleable__control:checked~div.sk-toggleable__content {max-height: 200px;max-width: 100%;overflow: auto;}#sk-container-id-8 input.sk-toggleable__control:checked~label.sk-toggleable__label-arrow:before {content: \"▾\";}#sk-container-id-8 div.sk-estimator input.sk-toggleable__control:checked~label.sk-toggleable__label {background-color: #d4ebff;}#sk-container-id-8 div.sk-label input.sk-toggleable__control:checked~label.sk-toggleable__label {background-color: #d4ebff;}#sk-container-id-8 input.sk-hidden--visually {border: 0;clip: rect(1px 1px 1px 1px);clip: rect(1px, 1px, 1px, 1px);height: 1px;margin: -1px;overflow: hidden;padding: 0;position: absolute;width: 1px;}#sk-container-id-8 div.sk-estimator {font-family: monospace;background-color: #f0f8ff;border: 1px dotted black;border-radius: 0.25em;box-sizing: border-box;margin-bottom: 0.5em;}#sk-container-id-8 div.sk-estimator:hover {background-color: #d4ebff;}#sk-container-id-8 div.sk-parallel-item::after {content: \"\";width: 100%;border-bottom: 1px solid gray;flex-grow: 1;}#sk-container-id-8 div.sk-label:hover label.sk-toggleable__label {background-color: #d4ebff;}#sk-container-id-8 div.sk-serial::before {content: \"\";position: absolute;border-left: 1px solid gray;box-sizing: border-box;top: 0;bottom: 0;left: 50%;z-index: 0;}#sk-container-id-8 div.sk-serial {display: flex;flex-direction: column;align-items: center;background-color: white;padding-right: 0.2em;padding-left: 0.2em;position: relative;}#sk-container-id-8 div.sk-item {position: relative;z-index: 1;}#sk-container-id-8 div.sk-parallel {display: flex;align-items: stretch;justify-content: center;background-color: white;position: relative;}#sk-container-id-8 div.sk-item::before, #sk-container-id-8 div.sk-parallel-item::before {content: \"\";position: absolute;border-left: 1px solid gray;box-sizing: border-box;top: 0;bottom: 0;left: 50%;z-index: -1;}#sk-container-id-8 div.sk-parallel-item {display: flex;flex-direction: column;z-index: 1;position: relative;background-color: white;}#sk-container-id-8 div.sk-parallel-item:first-child::after {align-self: flex-end;width: 50%;}#sk-container-id-8 div.sk-parallel-item:last-child::after {align-self: flex-start;width: 50%;}#sk-container-id-8 div.sk-parallel-item:only-child::after {width: 0;}#sk-container-id-8 div.sk-dashed-wrapped {border: 1px dashed gray;margin: 0 0.4em 0.5em 0.4em;box-sizing: border-box;padding-bottom: 0.4em;background-color: white;}#sk-container-id-8 div.sk-label label {font-family: monospace;font-weight: bold;display: inline-block;line-height: 1.2em;}#sk-container-id-8 div.sk-label-container {text-align: center;}#sk-container-id-8 div.sk-container {/* jupyter's `normalize.less` sets `[hidden] { display: none; }` but bootstrap.min.css set `[hidden] { display: none !important; }` so we also need the `!important` here to be able to override the default hidden behavior on the sphinx rendered scikit-learn.org. See: https://github.com/scikit-learn/scikit-learn/issues/21755 */display: inline-block !important;position: relative;}#sk-container-id-8 div.sk-text-repr-fallback {display: none;}</style><div id=\"sk-container-id-8\" class=\"sk-top-container\"><div class=\"sk-text-repr-fallback\"><pre>SVC(C=100, kernel=&#x27;linear&#x27;)</pre><b>In a Jupyter environment, please rerun this cell to show the HTML representation or trust the notebook. <br />On GitHub, the HTML representation is unable to render, please try loading this page with nbviewer.org.</b></div><div class=\"sk-container\" hidden><div class=\"sk-item\"><div class=\"sk-estimator sk-toggleable\"><input class=\"sk-toggleable__control sk-hidden--visually\" id=\"sk-estimator-id-8\" type=\"checkbox\" checked><label for=\"sk-estimator-id-8\" class=\"sk-toggleable__label sk-toggleable__label-arrow\">SVC</label><div class=\"sk-toggleable__content\"><pre>SVC(C=100, kernel=&#x27;linear&#x27;)</pre></div></div></div></div></div>"
      ],
      "text/plain": [
       "SVC(C=100, kernel='linear')"
      ]
     },
     "execution_count": 22,
     "metadata": {},
     "output_type": "execute_result"
    },
    {
     "name": "stderr",
     "output_type": "stream",
     "text": [
      "4:80: E501 line too long (89 > 79 characters)\n"
     ]
    }
   ],
   "source": [
    "from sklearn.model_selection import train_test_split    # sklearn > ...\n",
    "\n",
    "\n",
    "XTrain, XTest, yTrain, yTest = train_test_split(X, y, test_size=0.5)  # split data in two\n",
    "\n",
    "model1 = SVC(kernel=\"linear\", C=0.01)\n",
    "model1.fit(XTrain, yTrain)\n",
    "\n",
    "model2 = SVC(kernel=\"linear\", C=100)\n",
    "model2.fit(XTrain, yTrain)"
   ]
  },
  {
   "cell_type": "code",
   "execution_count": 24,
   "metadata": {
    "tags": []
   },
   "outputs": [
    {
     "data": {
      "text/plain": [
       "Text(0.5, 1.0, 'C = 0.01')"
      ]
     },
     "execution_count": 24,
     "metadata": {},
     "output_type": "execute_result"
    },
    {
     "data": {
      "image/png": "[encoded data removed]",
      "text/plain": [
       "<Figure size 640x480 with 1 Axes>"
      ]
     },
     "metadata": {},
     "output_type": "display_data"
    }
   ],
   "source": [
    "plt.scatter(XTrain[:, 0], XTrain[:, 1], c=yTrain,  cmap=plt.cm.Paired)\n",
    "plot_svc_decision_function(model1)\n",
    "plt.title(\"C = 0.01\")"
   ]
  },
  {
   "cell_type": "code",
   "execution_count": 26,
   "metadata": {
    "tags": []
   },
   "outputs": [
    {
     "data": {
      "text/plain": [
       "Text(0.5, 1.0, 'C = 100')"
      ]
     },
     "execution_count": 26,
     "metadata": {},
     "output_type": "execute_result"
    },
    {
     "data": {
      "image/png": "[encoded data removed]",
      "text/plain": [
       "<Figure size 640x480 with 1 Axes>"
      ]
     },
     "metadata": {},
     "output_type": "display_data"
    }
   ],
   "source": [
    "plt.scatter(XTrain[:, 0], XTrain[:, 1], c=yTrain,  cmap=plt.cm.Paired)\n",
    "plot_svc_decision_function(model2)\n",
    "plt.title(\"C = 100\")"
   ]
  },
  {
   "cell_type": "markdown",
   "metadata": {},
   "source": [
    "To find out which value of $C$ to use or globally the performance of the classifier, one can use Scikit Learn's [classification metrics](http://scikit-learn.org/stable/modules/model_evaluation.html#classification-metrics), for instance the confusion matrix."
   ]
  },
  {
   "cell_type": "code",
   "execution_count": 27,
   "metadata": {
    "tags": []
   },
   "outputs": [
    {
     "name": "stdout",
     "output_type": "stream",
     "text": [
      "Model with C = 0.01\n",
      "[[22  5]\n",
      " [ 3 20]]\n",
      "Model with C = 100\n",
      "[[22  5]\n",
      " [ 3 20]]\n"
     ]
    }
   ],
   "source": [
    "from sklearn.metrics import confusion_matrix\n",
    "\n",
    "\n",
    "yFit1 = model1.predict(XTest)\n",
    "yFit2 = model2.predict(XTest)\n",
    "\n",
    "\n",
    "mat1 = confusion_matrix(yTest, yFit1)\n",
    "mat2 = confusion_matrix(yTest, yFit2)\n",
    "\n",
    "print('Model with C = 0.01')\n",
    "print(mat1)\n",
    "print(\"Model with C = 100\")\n",
    "print(mat2)"
   ]
  },
  {
   "cell_type": "markdown",
   "metadata": {},
   "source": [
    "It can also be plotted in a fancier way with seaborn."
   ]
  },
  {
   "cell_type": "code",
   "execution_count": 29,
   "metadata": {
    "tags": []
   },
   "outputs": [
    {
     "data": {
      "text/plain": [
       "Text(0.5, 23.52222222222222, 'predicted label')"
      ]
     },
     "execution_count": 29,
     "metadata": {},
     "output_type": "execute_result"
    },
    {
     "data": {
      "image/png": "[encoded data removed]",
      "text/plain": [
       "<Figure size 640x480 with 1 Axes>"
      ]
     },
     "metadata": {},
     "output_type": "display_data"
    }
   ],
   "source": [
    "import seaborn as sns\n",
    "\n",
    "sns.heatmap(mat1, square=True, annot=True, cbar=False)\n",
    "plt.ylabel('true label')\n",
    "plt.xlabel('predicted label')"
   ]
  },
  {
   "cell_type": "markdown",
   "metadata": {},
   "source": [
    "### Kernels\n",
    "\n",
    "When the separation between classes is not *linear*, kernels may be used to draw separating curves instead of lines. The most popular is the Gaussian rbf."
   ]
  },
  {
   "cell_type": "code",
   "execution_count": 32,
   "metadata": {
    "tags": []
   },
   "outputs": [
    {
     "data": {
      "text/plain": [
       "<matplotlib.collections.PathCollection at 0x1414c3d50>"
      ]
     },
     "execution_count": 32,
     "metadata": {},
     "output_type": "execute_result"
    },
    {
     "data": {
      "image/png": "[encoded data removed]",
      "text/plain": [
       "<Figure size 640x480 with 1 Axes>"
      ]
     },
     "metadata": {},
     "output_type": "display_data"
    }
   ],
   "source": [
    "from sklearn.datasets import make_moons\n",
    "\n",
    "X, y = make_moons(noise=0.1)\n",
    "plt.scatter(X[:, 0], X[:, 1], c=y,  cmap=plt.cm.Paired)"
   ]
  },
  {
   "cell_type": "code",
   "execution_count": 36,
   "metadata": {
    "tags": []
   },
   "outputs": [
    {
     "data": {
      "text/html": [
       "<style>#sk-container-id-12 {color: black;}#sk-container-id-12 pre{padding: 0;}#sk-container-id-12 div.sk-toggleable {background-color: white;}#sk-container-id-12 label.sk-toggleable__label {cursor: pointer;display: block;width: 100%;margin-bottom: 0;padding: 0.3em;box-sizing: border-box;text-align: center;}#sk-container-id-12 label.sk-toggleable__label-arrow:before {content: \"▸\";float: left;margin-right: 0.25em;color: #696969;}#sk-container-id-12 label.sk-toggleable__label-arrow:hover:before {color: black;}#sk-container-id-12 div.sk-estimator:hover label.sk-toggleable__label-arrow:before {color: black;}#sk-container-id-12 div.sk-toggleable__content {max-height: 0;max-width: 0;overflow: hidden;text-align: left;background-color: #f0f8ff;}#sk-container-id-12 div.sk-toggleable__content pre {margin: 0.2em;color: black;border-radius: 0.25em;background-color: #f0f8ff;}#sk-container-id-12 input.sk-toggleable__control:checked~div.sk-toggleable__content {max-height: 200px;max-width: 100%;overflow: auto;}#sk-container-id-12 input.sk-toggleable__control:checked~label.sk-toggleable__label-arrow:before {content: \"▾\";}#sk-container-id-12 div.sk-estimator input.sk-toggleable__control:checked~label.sk-toggleable__label {background-color: #d4ebff;}#sk-container-id-12 div.sk-label input.sk-toggleable__control:checked~label.sk-toggleable__label {background-color: #d4ebff;}#sk-container-id-12 input.sk-hidden--visually {border: 0;clip: rect(1px 1px 1px 1px);clip: rect(1px, 1px, 1px, 1px);height: 1px;margin: -1px;overflow: hidden;padding: 0;position: absolute;width: 1px;}#sk-container-id-12 div.sk-estimator {font-family: monospace;background-color: #f0f8ff;border: 1px dotted black;border-radius: 0.25em;box-sizing: border-box;margin-bottom: 0.5em;}#sk-container-id-12 div.sk-estimator:hover {background-color: #d4ebff;}#sk-container-id-12 div.sk-parallel-item::after {content: \"\";width: 100%;border-bottom: 1px solid gray;flex-grow: 1;}#sk-container-id-12 div.sk-label:hover label.sk-toggleable__label {background-color: #d4ebff;}#sk-container-id-12 div.sk-serial::before {content: \"\";position: absolute;border-left: 1px solid gray;box-sizing: border-box;top: 0;bottom: 0;left: 50%;z-index: 0;}#sk-container-id-12 div.sk-serial {display: flex;flex-direction: column;align-items: center;background-color: white;padding-right: 0.2em;padding-left: 0.2em;position: relative;}#sk-container-id-12 div.sk-item {position: relative;z-index: 1;}#sk-container-id-12 div.sk-parallel {display: flex;align-items: stretch;justify-content: center;background-color: white;position: relative;}#sk-container-id-12 div.sk-item::before, #sk-container-id-12 div.sk-parallel-item::before {content: \"\";position: absolute;border-left: 1px solid gray;box-sizing: border-box;top: 0;bottom: 0;left: 50%;z-index: -1;}#sk-container-id-12 div.sk-parallel-item {display: flex;flex-direction: column;z-index: 1;position: relative;background-color: white;}#sk-container-id-12 div.sk-parallel-item:first-child::after {align-self: flex-end;width: 50%;}#sk-container-id-12 div.sk-parallel-item:last-child::after {align-self: flex-start;width: 50%;}#sk-container-id-12 div.sk-parallel-item:only-child::after {width: 0;}#sk-container-id-12 div.sk-dashed-wrapped {border: 1px dashed gray;margin: 0 0.4em 0.5em 0.4em;box-sizing: border-box;padding-bottom: 0.4em;background-color: white;}#sk-container-id-12 div.sk-label label {font-family: monospace;font-weight: bold;display: inline-block;line-height: 1.2em;}#sk-container-id-12 div.sk-label-container {text-align: center;}#sk-container-id-12 div.sk-container {/* jupyter's `normalize.less` sets `[hidden] { display: none; }` but bootstrap.min.css set `[hidden] { display: none !important; }` so we also need the `!important` here to be able to override the default hidden behavior on the sphinx rendered scikit-learn.org. See: https://github.com/scikit-learn/scikit-learn/issues/21755 */display: inline-block !important;position: relative;}#sk-container-id-12 div.sk-text-repr-fallback {display: none;}</style><div id=\"sk-container-id-12\" class=\"sk-top-container\"><div class=\"sk-text-repr-fallback\"><pre>SVC()</pre><b>In a Jupyter environment, please rerun this cell to show the HTML representation or trust the notebook. <br />On GitHub, the HTML representation is unable to render, please try loading this page with nbviewer.org.</b></div><div class=\"sk-container\" hidden><div class=\"sk-item\"><div class=\"sk-estimator sk-toggleable\"><input class=\"sk-toggleable__control sk-hidden--visually\" id=\"sk-estimator-id-12\" type=\"checkbox\" checked><label for=\"sk-estimator-id-12\" class=\"sk-toggleable__label sk-toggleable__label-arrow\">SVC</label><div class=\"sk-toggleable__content\"><pre>SVC()</pre></div></div></div></div></div>"
      ],
      "text/plain": [
       "SVC()"
      ]
     },
     "execution_count": 36,
     "metadata": {},
     "output_type": "execute_result"
    }
   ],
   "source": [
    "modelLinear = SVC(kernel=\"linear\")\n",
    "modelLinear.fit(X, y)\n",
    "\n",
    "modelRbf = SVC(kernel=\"rbf\")\n",
    "modelRbf.fit(X, y)"
   ]
  },
  {
   "cell_type": "code",
   "execution_count": 37,
   "metadata": {
    "tags": []
   },
   "outputs": [
    {
     "data": {
      "text/plain": [
       "Text(0.5, 1.0, 'The two models superposed')"
      ]
     },
     "execution_count": 37,
     "metadata": {},
     "output_type": "execute_result"
    },
    {
     "data": {
      "image/png": "[encoded data removed]",
      "text/plain": [
       "<Figure size 640x480 with 1 Axes>"
      ]
     },
     "metadata": {},
     "output_type": "display_data"
    }
   ],
   "source": [
    "plt.scatter(X[:, 0], X[:, 1], c=y,  cmap=plt.cm.Paired)\n",
    "plot_svc_decision_function(modelLinear)\n",
    "plot_svc_decision_function(modelRbf)\n",
    "plt.title(\"The two models superposed\")"
   ]
  },
  {
   "cell_type": "markdown",
   "metadata": {},
   "source": [
    "Let us compare the linear and rbf training error using the zero one loss (the proportion of misclassified examples)."
   ]
  },
  {
   "cell_type": "code",
   "execution_count": 39,
   "metadata": {
    "tags": []
   },
   "outputs": [
    {
     "name": "stderr",
     "output_type": "stream",
     "text": [
      "6:80: E501 line too long (116 > 79 characters)\n"
     ]
    },
    {
     "name": "stdout",
     "output_type": "stream",
     "text": [
      "0/1 loss -- Linear: 0.140      Rbf: 0.020\n"
     ]
    }
   ],
   "source": [
    "from sklearn.metrics import zero_one_loss\n",
    "\n",
    "yFitLinear = modelLinear.predict(X)\n",
    "yFitRbf = modelRbf.predict(X)\n",
    "\n",
    "print(\"0/1 loss -- Linear: {:.3f}      Rbf: {:.3f}\".format(zero_one_loss(y, yFitLinear), zero_one_loss(y, yFitRbf)))"
   ]
  },
  {
   "cell_type": "markdown",
   "metadata": {},
   "source": [
    "### Multiple classes \n",
    "\n",
    "\n",
    "Where there are multiples classes (as in the *iris* dataset of the Pandas notebook), different strategies can be adopted:\n",
    "* Transforming the multiclass problem into a binary one by looking at the *one-vs-rest* problem (for each class construct a binary classifier between it and the rest) or the *one-vs-one* one (where each couple of classes is considered separately). After this transformation, standard binary classifiers can be used.\n",
    "* Using dedicated algorithms such as *decision trees* \n",
    "\n",
    "The corresponding algorithms can be found in the [multiclass module documentation](http://scikit-learn.org/stable/modules/multiclass.html).\n",
    "\n",
    "We are going to illustrate this by the iris 3-class classification problem using only the 2 petal features (width and length, this is only so that the feature vector is 2D and easy to visualize). "
   ]
  },
  {
   "cell_type": "code",
   "execution_count": 41,
   "metadata": {
    "tags": []
   },
   "outputs": [],
   "source": [
    "import pandas as pd\n",
    "import numpy as np\n",
    "\n",
    "iris = pd.read_csv('data/iris.csv')\n",
    "classes = pd.DataFrame(iris[\"species\"])\n",
    "features = iris.drop([\"species\", \"sepal_length\", \"sepal_width\"], axis=1)"
   ]
  },
  {
   "cell_type": "code",
   "execution_count": 42,
   "metadata": {
    "tags": []
   },
   "outputs": [
    {
     "data": {
      "text/html": [
       "<div>\n",
       "<style scoped>\n",
       "    .dataframe tbody tr th:only-of-type {\n",
       "        vertical-align: middle;\n",
       "    }\n",
       "\n",
       "    .dataframe tbody tr th {\n",
       "        vertical-align: top;\n",
       "    }\n",
       "\n",
       "    .dataframe thead th {\n",
       "        text-align: right;\n",
       "    }\n",
       "</style>\n",
       "<table border=\"1\" class=\"dataframe\">\n",
       "  <thead>\n",
       "    <tr style=\"text-align: right;\">\n",
       "      <th></th>\n",
       "      <th>species</th>\n",
       "    </tr>\n",
       "  </thead>\n",
       "  <tbody>\n",
       "    <tr>\n",
       "      <th>4</th>\n",
       "      <td>setosa</td>\n",
       "    </tr>\n",
       "    <tr>\n",
       "      <th>71</th>\n",
       "      <td>versicolor</td>\n",
       "    </tr>\n",
       "    <tr>\n",
       "      <th>111</th>\n",
       "      <td>virginica</td>\n",
       "    </tr>\n",
       "    <tr>\n",
       "      <th>31</th>\n",
       "      <td>setosa</td>\n",
       "    </tr>\n",
       "    <tr>\n",
       "      <th>53</th>\n",
       "      <td>versicolor</td>\n",
       "    </tr>\n",
       "    <tr>\n",
       "      <th>78</th>\n",
       "      <td>versicolor</td>\n",
       "    </tr>\n",
       "  </tbody>\n",
       "</table>\n",
       "</div>"
      ],
      "text/plain": [
       "        species\n",
       "4        setosa\n",
       "71   versicolor\n",
       "111   virginica\n",
       "31       setosa\n",
       "53   versicolor\n",
       "78   versicolor"
      ]
     },
     "execution_count": 42,
     "metadata": {},
     "output_type": "execute_result"
    }
   ],
   "source": [
    "classes.sample(6)"
   ]
  },
  {
   "cell_type": "code",
   "execution_count": 43,
   "metadata": {
    "tags": []
   },
   "outputs": [
    {
     "data": {
      "text/html": [
       "<div>\n",
       "<style scoped>\n",
       "    .dataframe tbody tr th:only-of-type {\n",
       "        vertical-align: middle;\n",
       "    }\n",
       "\n",
       "    .dataframe tbody tr th {\n",
       "        vertical-align: top;\n",
       "    }\n",
       "\n",
       "    .dataframe thead th {\n",
       "        text-align: right;\n",
       "    }\n",
       "</style>\n",
       "<table border=\"1\" class=\"dataframe\">\n",
       "  <thead>\n",
       "    <tr style=\"text-align: right;\">\n",
       "      <th></th>\n",
       "      <th>petal_length</th>\n",
       "      <th>petal_width</th>\n",
       "    </tr>\n",
       "  </thead>\n",
       "  <tbody>\n",
       "    <tr>\n",
       "      <th>95</th>\n",
       "      <td>4.2</td>\n",
       "      <td>1.2</td>\n",
       "    </tr>\n",
       "    <tr>\n",
       "      <th>119</th>\n",
       "      <td>5.0</td>\n",
       "      <td>1.5</td>\n",
       "    </tr>\n",
       "    <tr>\n",
       "      <th>110</th>\n",
       "      <td>5.1</td>\n",
       "      <td>2.0</td>\n",
       "    </tr>\n",
       "    <tr>\n",
       "      <th>88</th>\n",
       "      <td>4.1</td>\n",
       "      <td>1.3</td>\n",
       "    </tr>\n",
       "    <tr>\n",
       "      <th>23</th>\n",
       "      <td>1.7</td>\n",
       "      <td>0.5</td>\n",
       "    </tr>\n",
       "    <tr>\n",
       "      <th>136</th>\n",
       "      <td>5.6</td>\n",
       "      <td>2.4</td>\n",
       "    </tr>\n",
       "  </tbody>\n",
       "</table>\n",
       "</div>"
      ],
      "text/plain": [
       "     petal_length  petal_width\n",
       "95            4.2          1.2\n",
       "119           5.0          1.5\n",
       "110           5.1          2.0\n",
       "88            4.1          1.3\n",
       "23            1.7          0.5\n",
       "136           5.6          2.4"
      ]
     },
     "execution_count": 43,
     "metadata": {},
     "output_type": "execute_result"
    }
   ],
   "source": [
    "features.sample(6)"
   ]
  },
  {
   "cell_type": "code",
   "execution_count": 45,
   "metadata": {
    "tags": []
   },
   "outputs": [
    {
     "name": "stderr",
     "output_type": "stream",
     "text": [
      "1:80: E501 line too long (81 > 79 characters)\n"
     ]
    }
   ],
   "source": [
    "XTrain, XTest, yTrain, yTest = train_test_split(features, classes, test_size=0.5)"
   ]
  },
  {
   "cell_type": "code",
   "execution_count": 46,
   "metadata": {
    "tags": []
   },
   "outputs": [],
   "source": [
    "from sklearn.multiclass import OneVsRestClassifier\n",
    "\n",
    "yPred = OneVsRestClassifier(SVC()).fit(XTrain, yTrain).predict(XTest)"
   ]
  },
  {
   "cell_type": "code",
   "execution_count": 47,
   "metadata": {
    "tags": []
   },
   "outputs": [
    {
     "name": "stdout",
     "output_type": "stream",
     "text": [
      "['setosa' 'virginica' 'virginica' 'versicolor' 'virginica' 'virginica'\n",
      " 'virginica' 'virginica' 'virginica' 'versicolor' 'virginica' 'setosa'\n",
      " 'versicolor' 'setosa' 'setosa' 'setosa' 'setosa' 'versicolor' 'setosa'\n",
      " 'versicolor' 'versicolor' 'setosa' 'versicolor' 'setosa' 'versicolor'\n",
      " 'versicolor' 'setosa' 'virginica' 'versicolor' 'virginica' 'virginica'\n",
      " 'setosa' 'setosa' 'versicolor' 'virginica' 'virginica' 'versicolor'\n",
      " 'versicolor' 'versicolor' 'virginica' 'virginica' 'setosa' 'versicolor'\n",
      " 'setosa' 'versicolor' 'virginica' 'setosa' 'versicolor' 'virginica'\n",
      " 'virginica' 'virginica' 'virginica' 'virginica' 'versicolor' 'setosa'\n",
      " 'setosa' 'versicolor' 'versicolor' 'virginica' 'virginica' 'virginica'\n",
      " 'setosa' 'versicolor' 'versicolor' 'versicolor' 'versicolor' 'setosa'\n",
      " 'virginica' 'virginica' 'virginica' 'virginica' 'virginica' 'setosa'\n",
      " 'setosa' 'setosa']\n"
     ]
    }
   ],
   "source": [
    "print(yPred)  # Note the classes are not number but everything went as expected"
   ]
  },
  {
   "cell_type": "code",
   "execution_count": 52,
   "metadata": {
    "tags": []
   },
   "outputs": [
    {
     "data": {
      "text/plain": [
       "Text(0.5, 23.52222222222222, 'predicted label')"
      ]
     },
     "execution_count": 52,
     "metadata": {},
     "output_type": "execute_result"
    },
    {
     "data": {
      "image/png": "[encoded data removed]",
      "text/plain": [
       "<Figure size 640x480 with 1 Axes>"
      ]
     },
     "metadata": {},
     "output_type": "display_data"
    },
    {
     "name": "stderr",
     "output_type": "stream",
     "text": [
      "2:80: E501 line too long (133 > 79 characters)\n"
     ]
    }
   ],
   "source": [
    "class_labels = ['virginica', 'setosa', 'versicolor']\n",
    "sns.heatmap(confusion_matrix(yTest, yPred), square=True, annot=True, cbar=False, xticklabels=class_labels,  yticklabels=class_labels)\n",
    "plt.ylabel('true label')\n",
    "plt.xlabel('predicted label')"
   ]
  },
  {
   "cell_type": "markdown",
   "metadata": {},
   "source": [
    "### Other classifiers \n",
    "\n",
    "\n",
    "The main classifiers from Scikit learn are:  *Linear SVM, RBF SVM (as already seen), Nearest Neighbors, Gaussian Process, Decision Tree, Random Forest, Neural Net, AdaBoost, Naive Bayes, QDA*.\n",
    "\n",
    "Use is:\n",
    "    \n",
    "    from sklearn.neural_network import MLPClassifier\n",
    "    from sklearn.neighbors import KNeighborsClassifier\n",
    "    from sklearn.svm import SVC\n",
    "    from sklearn.gaussian_process import GaussianProcessClassifier\n",
    "    from sklearn.gaussian_process.kernels import RBF\n",
    "    from sklearn.tree import DecisionTreeClassifier\n",
    "    from sklearn.ensemble import RandomForestClassifier, AdaBoostClassifier\n",
    "    from sklearn.naive_bayes import GaussianNB\n",
    "    from sklearn.discriminant_analysis import QuadraticDiscriminantAnalysis\n",
    "\n",
    "\n",
    "    classifiers = [\n",
    "    KNeighborsClassifier(3),\n",
    "    SVC(kernel=\"linear\", C=0.025),\n",
    "    SVC(gamma=2, C=1),\n",
    "    GaussianProcessClassifier(1.0 * RBF(1.0), warm_start=True),\n",
    "    DecisionTreeClassifier(max_depth=5),\n",
    "    RandomForestClassifier(max_depth=5, n_estimators=10, max_features=1),\n",
    "    MLPClassifier(alpha=1),\n",
    "    AdaBoostClassifier(),\n",
    "    GaussianNB(),\n",
    "    QuadraticDiscriminantAnalysis()]"
   ]
  },
  {
   "cell_type": "markdown",
   "metadata": {},
   "source": [
    "##   Regression"
   ]
  },
  {
   "cell_type": "markdown",
   "metadata": {},
   "source": [
    "Let consider the problem of predicting real values from a set of features.\n",
    "\n",
    "We will consider the <a href=\"http://archive.ics.uci.edu/ml/datasets/Student+Performance\">student performance</a> dataset. The goal is to predict the final grade from the other information, we get from the documentation:"
   ]
  },
  {
   "cell_type": "raw",
   "metadata": {},
   "source": [
    "# Attributes for both student-mat.csv (Math course) dataset:\n",
    "1 sex - student's sex (binary: \"F\" - female or \"M\" - male)\n",
    "2 age - student's age (numeric: from 15 to 22)\n",
    "3 address - student's home address type (binary: \"U\" - urban or \"R\" - rural)\n",
    "4 famsize - family size (binary: \"LE3\" - less or equal to 3 or \"GT3\" - greater than 3)\n",
    "5 Pstatus - parent's cohabitation status (binary: \"T\" - living together or \"A\" - apart)\n",
    "6 Medu - mother's education (numeric: 0 - none,  1 - primary education (4th grade), 2 – 5th to 9th grade, 3 – secondary education or 4 – higher education)\n",
    "7 Fedu - father's education (numeric: 0 - none,  1 - primary education (4th grade), 2 – 5th to 9th grade, 3 – secondary education or 4 – higher education)\n",
    "8 traveltime - home to school travel time (numeric: 1 - <15 min., 2 - 15 to 30 min., 3 - 30 min. to 1 hour, or 4 - >1 hour)\n",
    "9 studytime - weekly study time (numeric: 1 - <2 hours, 2 - 2 to 5 hours, 3 - 5 to 10 hours, or 4 - >10 hours)\n",
    "10 failures - number of past class failures (numeric: n if 1<=n<3, else 4)\n",
    "11 schoolsup - extra educational support (binary: yes or no)\n",
    "12 famsup - family educational support (binary: yes or no)\n",
    "13 paid - extra paid classes within the course subject (Math or Portuguese) (binary: yes or no)\n",
    "14 activities - extra-curricular activities (binary: yes or no)\n",
    "15 nursery - attended nursery school (binary: yes or no)\n",
    "16 higher - wants to take higher education (binary: yes or no)\n",
    "17 internet - Internet access at home (binary: yes or no)\n",
    "18 romantic - with a romantic relationship (binary: yes or no)\n",
    "19 famrel - quality of family relationships (numeric: from 1 - very bad to 5 - excellent)\n",
    "20 freetime - free time after school (numeric: from 1 - very low to 5 - very high)\n",
    "21 goout - going out with friends (numeric: from 1 - very low to 5 - very high)\n",
    "22 Dalc - workday alcohol consumption (numeric: from 1 - very low to 5 - very high)\n",
    "23 Walc - weekend alcohol consumption (numeric: from 1 - very low to 5 - very high)\n",
    "24 health - current health status (numeric: from 1 - very bad to 5 - very good)\n",
    "25 absences - number of school absences (numeric: from 0 to 93)\n",
    "26 G1 - first period grade (numeric: from 0 to 20)\n",
    "27 G2 - second period grade (numeric: from 0 to 20)\n",
    "\n",
    "28 G3 - final grade (numeric: from 0 to 20, output target)"
   ]
  },
  {
   "cell_type": "code",
   "execution_count": 53,
   "metadata": {
    "tags": []
   },
   "outputs": [
    {
     "data": {
      "text/html": [
       "<div>\n",
       "<style scoped>\n",
       "    .dataframe tbody tr th:only-of-type {\n",
       "        vertical-align: middle;\n",
       "    }\n",
       "\n",
       "    .dataframe tbody tr th {\n",
       "        vertical-align: top;\n",
       "    }\n",
       "\n",
       "    .dataframe thead th {\n",
       "        text-align: right;\n",
       "    }\n",
       "</style>\n",
       "<table border=\"1\" class=\"dataframe\">\n",
       "  <thead>\n",
       "    <tr style=\"text-align: right;\">\n",
       "      <th></th>\n",
       "      <th>sex</th>\n",
       "      <th>age</th>\n",
       "      <th>address</th>\n",
       "      <th>famsize</th>\n",
       "      <th>Pstatus</th>\n",
       "      <th>Medu</th>\n",
       "      <th>Fedu</th>\n",
       "      <th>traveltime</th>\n",
       "      <th>studytime</th>\n",
       "      <th>failures</th>\n",
       "      <th>...</th>\n",
       "      <th>famrel</th>\n",
       "      <th>freetime</th>\n",
       "      <th>goout</th>\n",
       "      <th>Dalc</th>\n",
       "      <th>Walc</th>\n",
       "      <th>health</th>\n",
       "      <th>absences</th>\n",
       "      <th>G1</th>\n",
       "      <th>G2</th>\n",
       "      <th>G3</th>\n",
       "    </tr>\n",
       "  </thead>\n",
       "  <tbody>\n",
       "    <tr>\n",
       "      <th>0</th>\n",
       "      <td>F</td>\n",
       "      <td>18</td>\n",
       "      <td>U</td>\n",
       "      <td>GT3</td>\n",
       "      <td>A</td>\n",
       "      <td>4</td>\n",
       "      <td>4</td>\n",
       "      <td>2</td>\n",
       "      <td>2</td>\n",
       "      <td>0</td>\n",
       "      <td>...</td>\n",
       "      <td>4</td>\n",
       "      <td>3</td>\n",
       "      <td>4</td>\n",
       "      <td>1</td>\n",
       "      <td>1</td>\n",
       "      <td>3</td>\n",
       "      <td>6</td>\n",
       "      <td>5</td>\n",
       "      <td>6</td>\n",
       "      <td>6</td>\n",
       "    </tr>\n",
       "    <tr>\n",
       "      <th>1</th>\n",
       "      <td>F</td>\n",
       "      <td>17</td>\n",
       "      <td>U</td>\n",
       "      <td>GT3</td>\n",
       "      <td>T</td>\n",
       "      <td>1</td>\n",
       "      <td>1</td>\n",
       "      <td>1</td>\n",
       "      <td>2</td>\n",
       "      <td>0</td>\n",
       "      <td>...</td>\n",
       "      <td>5</td>\n",
       "      <td>3</td>\n",
       "      <td>3</td>\n",
       "      <td>1</td>\n",
       "      <td>1</td>\n",
       "      <td>3</td>\n",
       "      <td>4</td>\n",
       "      <td>5</td>\n",
       "      <td>5</td>\n",
       "      <td>6</td>\n",
       "    </tr>\n",
       "    <tr>\n",
       "      <th>2</th>\n",
       "      <td>F</td>\n",
       "      <td>15</td>\n",
       "      <td>U</td>\n",
       "      <td>LE3</td>\n",
       "      <td>T</td>\n",
       "      <td>1</td>\n",
       "      <td>1</td>\n",
       "      <td>1</td>\n",
       "      <td>2</td>\n",
       "      <td>3</td>\n",
       "      <td>...</td>\n",
       "      <td>4</td>\n",
       "      <td>3</td>\n",
       "      <td>2</td>\n",
       "      <td>2</td>\n",
       "      <td>3</td>\n",
       "      <td>3</td>\n",
       "      <td>10</td>\n",
       "      <td>7</td>\n",
       "      <td>8</td>\n",
       "      <td>10</td>\n",
       "    </tr>\n",
       "    <tr>\n",
       "      <th>3</th>\n",
       "      <td>F</td>\n",
       "      <td>15</td>\n",
       "      <td>U</td>\n",
       "      <td>GT3</td>\n",
       "      <td>T</td>\n",
       "      <td>4</td>\n",
       "      <td>2</td>\n",
       "      <td>1</td>\n",
       "      <td>3</td>\n",
       "      <td>0</td>\n",
       "      <td>...</td>\n",
       "      <td>3</td>\n",
       "      <td>2</td>\n",
       "      <td>2</td>\n",
       "      <td>1</td>\n",
       "      <td>1</td>\n",
       "      <td>5</td>\n",
       "      <td>2</td>\n",
       "      <td>15</td>\n",
       "      <td>14</td>\n",
       "      <td>15</td>\n",
       "    </tr>\n",
       "    <tr>\n",
       "      <th>4</th>\n",
       "      <td>F</td>\n",
       "      <td>16</td>\n",
       "      <td>U</td>\n",
       "      <td>GT3</td>\n",
       "      <td>T</td>\n",
       "      <td>3</td>\n",
       "      <td>3</td>\n",
       "      <td>1</td>\n",
       "      <td>2</td>\n",
       "      <td>0</td>\n",
       "      <td>...</td>\n",
       "      <td>4</td>\n",
       "      <td>3</td>\n",
       "      <td>2</td>\n",
       "      <td>1</td>\n",
       "      <td>2</td>\n",
       "      <td>5</td>\n",
       "      <td>4</td>\n",
       "      <td>6</td>\n",
       "      <td>10</td>\n",
       "      <td>10</td>\n",
       "    </tr>\n",
       "  </tbody>\n",
       "</table>\n",
       "<p>5 rows × 28 columns</p>\n",
       "</div>"
      ],
      "text/plain": [
       "  sex  age address famsize Pstatus  Medu  Fedu  traveltime  studytime  \\\n",
       "0   F   18       U     GT3       A     4     4           2          2   \n",
       "1   F   17       U     GT3       T     1     1           1          2   \n",
       "2   F   15       U     LE3       T     1     1           1          2   \n",
       "3   F   15       U     GT3       T     4     2           1          3   \n",
       "4   F   16       U     GT3       T     3     3           1          2   \n",
       "\n",
       "   failures  ... famrel freetime goout Dalc Walc health absences  G1  G2  G3  \n",
       "0         0  ...      4        3     4    1    1      3        6   5   6   6  \n",
       "1         0  ...      5        3     3    1    1      3        4   5   5   6  \n",
       "2         3  ...      4        3     2    2    3      3       10   7   8  10  \n",
       "3         0  ...      3        2     2    1    1      5        2  15  14  15  \n",
       "4         0  ...      4        3     2    1    2      5        4   6  10  10  \n",
       "\n",
       "[5 rows x 28 columns]"
      ]
     },
     "execution_count": 53,
     "metadata": {},
     "output_type": "execute_result"
    }
   ],
   "source": [
    "import pandas as pd\n",
    "import numpy as np\n",
    "\n",
    "student = pd.read_csv('data/student-mat.csv')\n",
    "student.head()"
   ]
  },
  {
   "cell_type": "code",
   "execution_count": 55,
   "metadata": {
    "tags": []
   },
   "outputs": [],
   "source": [
    "target = pd.DataFrame(student[\"G3\"])\n",
    "features = student.drop([\"G3\"], axis=1)"
   ]
  },
  {
   "cell_type": "markdown",
   "metadata": {},
   "source": [
    "One immediate problem here is that the features are not *numeric* (not floats). Thankfully, Scikit Learn provides [encoders](http://scikit-learn.org/stable/modules/generated/sklearn.preprocessing.LabelEncoder.html#sklearn.preprocessing.LabelEncoder) to convert categorical (aka nominal, discrete) features to numerical ones."
   ]
  },
  {
   "cell_type": "code",
   "execution_count": 56,
   "metadata": {
    "tags": []
   },
   "outputs": [],
   "source": [
    "from sklearn.preprocessing import LabelEncoder\n",
    "\n",
    "lenc = LabelEncoder()\n",
    "num_features = features.apply(lenc.fit_transform)"
   ]
  },
  {
   "cell_type": "code",
   "execution_count": 59,
   "metadata": {
    "tags": []
   },
   "outputs": [
    {
     "data": {
      "text/html": [
       "<div>\n",
       "<style scoped>\n",
       "    .dataframe tbody tr th:only-of-type {\n",
       "        vertical-align: middle;\n",
       "    }\n",
       "\n",
       "    .dataframe tbody tr th {\n",
       "        vertical-align: top;\n",
       "    }\n",
       "\n",
       "    .dataframe thead th {\n",
       "        text-align: right;\n",
       "    }\n",
       "</style>\n",
       "<table border=\"1\" class=\"dataframe\">\n",
       "  <thead>\n",
       "    <tr style=\"text-align: right;\">\n",
       "      <th></th>\n",
       "      <th>sex</th>\n",
       "      <th>age</th>\n",
       "      <th>address</th>\n",
       "      <th>famsize</th>\n",
       "      <th>Pstatus</th>\n",
       "      <th>Medu</th>\n",
       "      <th>Fedu</th>\n",
       "      <th>traveltime</th>\n",
       "      <th>studytime</th>\n",
       "      <th>failures</th>\n",
       "      <th>...</th>\n",
       "      <th>romantic</th>\n",
       "      <th>famrel</th>\n",
       "      <th>freetime</th>\n",
       "      <th>goout</th>\n",
       "      <th>Dalc</th>\n",
       "      <th>Walc</th>\n",
       "      <th>health</th>\n",
       "      <th>absences</th>\n",
       "      <th>G1</th>\n",
       "      <th>G2</th>\n",
       "    </tr>\n",
       "  </thead>\n",
       "  <tbody>\n",
       "    <tr>\n",
       "      <th>0</th>\n",
       "      <td>0</td>\n",
       "      <td>3</td>\n",
       "      <td>1</td>\n",
       "      <td>0</td>\n",
       "      <td>0</td>\n",
       "      <td>4</td>\n",
       "      <td>4</td>\n",
       "      <td>1</td>\n",
       "      <td>1</td>\n",
       "      <td>0</td>\n",
       "      <td>...</td>\n",
       "      <td>0</td>\n",
       "      <td>3</td>\n",
       "      <td>2</td>\n",
       "      <td>3</td>\n",
       "      <td>0</td>\n",
       "      <td>0</td>\n",
       "      <td>2</td>\n",
       "      <td>6</td>\n",
       "      <td>2</td>\n",
       "      <td>3</td>\n",
       "    </tr>\n",
       "    <tr>\n",
       "      <th>1</th>\n",
       "      <td>0</td>\n",
       "      <td>2</td>\n",
       "      <td>1</td>\n",
       "      <td>0</td>\n",
       "      <td>1</td>\n",
       "      <td>1</td>\n",
       "      <td>1</td>\n",
       "      <td>0</td>\n",
       "      <td>1</td>\n",
       "      <td>0</td>\n",
       "      <td>...</td>\n",
       "      <td>0</td>\n",
       "      <td>4</td>\n",
       "      <td>2</td>\n",
       "      <td>2</td>\n",
       "      <td>0</td>\n",
       "      <td>0</td>\n",
       "      <td>2</td>\n",
       "      <td>4</td>\n",
       "      <td>2</td>\n",
       "      <td>2</td>\n",
       "    </tr>\n",
       "    <tr>\n",
       "      <th>2</th>\n",
       "      <td>0</td>\n",
       "      <td>0</td>\n",
       "      <td>1</td>\n",
       "      <td>1</td>\n",
       "      <td>1</td>\n",
       "      <td>1</td>\n",
       "      <td>1</td>\n",
       "      <td>0</td>\n",
       "      <td>1</td>\n",
       "      <td>3</td>\n",
       "      <td>...</td>\n",
       "      <td>0</td>\n",
       "      <td>3</td>\n",
       "      <td>2</td>\n",
       "      <td>1</td>\n",
       "      <td>1</td>\n",
       "      <td>2</td>\n",
       "      <td>2</td>\n",
       "      <td>10</td>\n",
       "      <td>4</td>\n",
       "      <td>5</td>\n",
       "    </tr>\n",
       "    <tr>\n",
       "      <th>3</th>\n",
       "      <td>0</td>\n",
       "      <td>0</td>\n",
       "      <td>1</td>\n",
       "      <td>0</td>\n",
       "      <td>1</td>\n",
       "      <td>4</td>\n",
       "      <td>2</td>\n",
       "      <td>0</td>\n",
       "      <td>2</td>\n",
       "      <td>0</td>\n",
       "      <td>...</td>\n",
       "      <td>1</td>\n",
       "      <td>2</td>\n",
       "      <td>1</td>\n",
       "      <td>1</td>\n",
       "      <td>0</td>\n",
       "      <td>0</td>\n",
       "      <td>4</td>\n",
       "      <td>2</td>\n",
       "      <td>12</td>\n",
       "      <td>11</td>\n",
       "    </tr>\n",
       "    <tr>\n",
       "      <th>4</th>\n",
       "      <td>0</td>\n",
       "      <td>1</td>\n",
       "      <td>1</td>\n",
       "      <td>0</td>\n",
       "      <td>1</td>\n",
       "      <td>3</td>\n",
       "      <td>3</td>\n",
       "      <td>0</td>\n",
       "      <td>1</td>\n",
       "      <td>0</td>\n",
       "      <td>...</td>\n",
       "      <td>0</td>\n",
       "      <td>3</td>\n",
       "      <td>2</td>\n",
       "      <td>1</td>\n",
       "      <td>0</td>\n",
       "      <td>1</td>\n",
       "      <td>4</td>\n",
       "      <td>4</td>\n",
       "      <td>3</td>\n",
       "      <td>7</td>\n",
       "    </tr>\n",
       "  </tbody>\n",
       "</table>\n",
       "<p>5 rows × 27 columns</p>\n",
       "</div>"
      ],
      "text/plain": [
       "   sex  age  address  famsize  Pstatus  Medu  Fedu  traveltime  studytime  \\\n",
       "0    0    3        1        0        0     4     4           1          1   \n",
       "1    0    2        1        0        1     1     1           0          1   \n",
       "2    0    0        1        1        1     1     1           0          1   \n",
       "3    0    0        1        0        1     4     2           0          2   \n",
       "4    0    1        1        0        1     3     3           0          1   \n",
       "\n",
       "   failures  ...  romantic  famrel  freetime  goout  Dalc  Walc  health  \\\n",
       "0         0  ...         0       3         2      3     0     0       2   \n",
       "1         0  ...         0       4         2      2     0     0       2   \n",
       "2         3  ...         0       3         2      1     1     2       2   \n",
       "3         0  ...         1       2         1      1     0     0       4   \n",
       "4         0  ...         0       3         2      1     0     1       4   \n",
       "\n",
       "   absences  G1  G2  \n",
       "0         6   2   3  \n",
       "1         4   2   2  \n",
       "2        10   4   5  \n",
       "3         2  12  11  \n",
       "4         4   3   7  \n",
       "\n",
       "[5 rows x 27 columns]"
      ]
     },
     "execution_count": 59,
     "metadata": {},
     "output_type": "execute_result"
    }
   ],
   "source": [
    "num_features.head()"
   ]
  },
  {
   "cell_type": "markdown",
   "metadata": {},
   "source": [
    "Even numerical values were encoded, as we are going to normalize, it is not really important. \n",
    "\n",
    "The normalization is done by removing the mean and equalizing the variance per feature, in addition, we are going to add an intercept."
   ]
  },
  {
   "cell_type": "code",
   "execution_count": 60,
   "metadata": {
    "tags": []
   },
   "outputs": [],
   "source": [
    "from sklearn.preprocessing import StandardScaler, add_dummy_feature\n",
    "\n",
    "scaler = StandardScaler()\n",
    "normFeatures = add_dummy_feature(scaler.fit_transform(num_features))"
   ]
  },
  {
   "cell_type": "code",
   "execution_count": 63,
   "metadata": {
    "tags": []
   },
   "outputs": [
    {
     "name": "stderr",
     "output_type": "stream",
     "text": [
      "1:80: E501 line too long (91 > 79 characters)\n"
     ]
    }
   ],
   "source": [
    "preproData = pd.DataFrame(normFeatures, columns=[\"intercept\"] + list(num_features.columns))"
   ]
  },
  {
   "cell_type": "code",
   "execution_count": 64,
   "metadata": {
    "tags": []
   },
   "outputs": [
    {
     "data": {
      "text/html": [
       "<div>\n",
       "<style scoped>\n",
       "    .dataframe tbody tr th:only-of-type {\n",
       "        vertical-align: middle;\n",
       "    }\n",
       "\n",
       "    .dataframe tbody tr th {\n",
       "        vertical-align: top;\n",
       "    }\n",
       "\n",
       "    .dataframe thead th {\n",
       "        text-align: right;\n",
       "    }\n",
       "</style>\n",
       "<table border=\"1\" class=\"dataframe\">\n",
       "  <thead>\n",
       "    <tr style=\"text-align: right;\">\n",
       "      <th></th>\n",
       "      <th>count</th>\n",
       "      <th>mean</th>\n",
       "      <th>std</th>\n",
       "      <th>min</th>\n",
       "      <th>25%</th>\n",
       "      <th>50%</th>\n",
       "      <th>75%</th>\n",
       "      <th>max</th>\n",
       "    </tr>\n",
       "  </thead>\n",
       "  <tbody>\n",
       "    <tr>\n",
       "      <th>intercept</th>\n",
       "      <td>395.0</td>\n",
       "      <td>1.000000e+00</td>\n",
       "      <td>0.000000</td>\n",
       "      <td>1.000000</td>\n",
       "      <td>1.000000</td>\n",
       "      <td>1.000000</td>\n",
       "      <td>1.000000</td>\n",
       "      <td>1.000000</td>\n",
       "    </tr>\n",
       "    <tr>\n",
       "      <th>sex</th>\n",
       "      <td>395.0</td>\n",
       "      <td>-7.195369e-17</td>\n",
       "      <td>1.001268</td>\n",
       "      <td>-0.948176</td>\n",
       "      <td>-0.948176</td>\n",
       "      <td>-0.948176</td>\n",
       "      <td>1.054656</td>\n",
       "      <td>1.054656</td>\n",
       "    </tr>\n",
       "    <tr>\n",
       "      <th>age</th>\n",
       "      <td>395.0</td>\n",
       "      <td>1.439074e-16</td>\n",
       "      <td>1.001268</td>\n",
       "      <td>-1.330954</td>\n",
       "      <td>-0.546287</td>\n",
       "      <td>0.238380</td>\n",
       "      <td>1.023046</td>\n",
       "      <td>4.161713</td>\n",
       "    </tr>\n",
       "    <tr>\n",
       "      <th>address</th>\n",
       "      <td>395.0</td>\n",
       "      <td>-1.618958e-16</td>\n",
       "      <td>1.001268</td>\n",
       "      <td>-1.867789</td>\n",
       "      <td>0.535392</td>\n",
       "      <td>0.535392</td>\n",
       "      <td>0.535392</td>\n",
       "      <td>0.535392</td>\n",
       "    </tr>\n",
       "    <tr>\n",
       "      <th>famsize</th>\n",
       "      <td>395.0</td>\n",
       "      <td>6.295948e-17</td>\n",
       "      <td>1.001268</td>\n",
       "      <td>-0.636941</td>\n",
       "      <td>-0.636941</td>\n",
       "      <td>-0.636941</td>\n",
       "      <td>1.570004</td>\n",
       "      <td>1.570004</td>\n",
       "    </tr>\n",
       "    <tr>\n",
       "      <th>Pstatus</th>\n",
       "      <td>395.0</td>\n",
       "      <td>-1.349132e-17</td>\n",
       "      <td>1.001268</td>\n",
       "      <td>-2.938392</td>\n",
       "      <td>0.340322</td>\n",
       "      <td>0.340322</td>\n",
       "      <td>0.340322</td>\n",
       "      <td>0.340322</td>\n",
       "    </tr>\n",
       "    <tr>\n",
       "      <th>Medu</th>\n",
       "      <td>395.0</td>\n",
       "      <td>5.396527e-17</td>\n",
       "      <td>1.001268</td>\n",
       "      <td>-2.514630</td>\n",
       "      <td>-0.685387</td>\n",
       "      <td>0.229234</td>\n",
       "      <td>1.143856</td>\n",
       "      <td>1.143856</td>\n",
       "    </tr>\n",
       "    <tr>\n",
       "      <th>Fedu</th>\n",
       "      <td>395.0</td>\n",
       "      <td>-1.439074e-16</td>\n",
       "      <td>1.001268</td>\n",
       "      <td>-2.320084</td>\n",
       "      <td>-0.479857</td>\n",
       "      <td>-0.479857</td>\n",
       "      <td>0.440257</td>\n",
       "      <td>1.360371</td>\n",
       "    </tr>\n",
       "    <tr>\n",
       "      <th>traveltime</th>\n",
       "      <td>395.0</td>\n",
       "      <td>3.597685e-17</td>\n",
       "      <td>1.001268</td>\n",
       "      <td>-0.643249</td>\n",
       "      <td>-0.643249</td>\n",
       "      <td>-0.643249</td>\n",
       "      <td>0.792251</td>\n",
       "      <td>3.663251</td>\n",
       "    </tr>\n",
       "    <tr>\n",
       "      <th>studytime</th>\n",
       "      <td>395.0</td>\n",
       "      <td>4.946817e-17</td>\n",
       "      <td>1.001268</td>\n",
       "      <td>-1.235351</td>\n",
       "      <td>-1.235351</td>\n",
       "      <td>-0.042286</td>\n",
       "      <td>-0.042286</td>\n",
       "      <td>2.343844</td>\n",
       "    </tr>\n",
       "    <tr>\n",
       "      <th>failures</th>\n",
       "      <td>395.0</td>\n",
       "      <td>-1.349132e-17</td>\n",
       "      <td>1.001268</td>\n",
       "      <td>-0.449944</td>\n",
       "      <td>-0.449944</td>\n",
       "      <td>-0.449944</td>\n",
       "      <td>-0.449944</td>\n",
       "      <td>3.589323</td>\n",
       "    </tr>\n",
       "    <tr>\n",
       "      <th>schoolsup</th>\n",
       "      <td>395.0</td>\n",
       "      <td>5.396527e-17</td>\n",
       "      <td>1.001268</td>\n",
       "      <td>-0.385040</td>\n",
       "      <td>-0.385040</td>\n",
       "      <td>-0.385040</td>\n",
       "      <td>-0.385040</td>\n",
       "      <td>2.597133</td>\n",
       "    </tr>\n",
       "    <tr>\n",
       "      <th>famsup</th>\n",
       "      <td>395.0</td>\n",
       "      <td>-9.893633e-17</td>\n",
       "      <td>1.001268</td>\n",
       "      <td>-1.257656</td>\n",
       "      <td>-1.257656</td>\n",
       "      <td>0.795130</td>\n",
       "      <td>0.795130</td>\n",
       "      <td>0.795130</td>\n",
       "    </tr>\n",
       "    <tr>\n",
       "      <th>paid</th>\n",
       "      <td>395.0</td>\n",
       "      <td>-2.698264e-17</td>\n",
       "      <td>1.001268</td>\n",
       "      <td>-0.919671</td>\n",
       "      <td>-0.919671</td>\n",
       "      <td>-0.919671</td>\n",
       "      <td>1.087346</td>\n",
       "      <td>1.087346</td>\n",
       "    </tr>\n",
       "    <tr>\n",
       "      <th>activities</th>\n",
       "      <td>395.0</td>\n",
       "      <td>-9.893633e-17</td>\n",
       "      <td>1.001268</td>\n",
       "      <td>-1.017881</td>\n",
       "      <td>-1.017881</td>\n",
       "      <td>0.982433</td>\n",
       "      <td>0.982433</td>\n",
       "      <td>0.982433</td>\n",
       "    </tr>\n",
       "    <tr>\n",
       "      <th>nursery</th>\n",
       "      <td>395.0</td>\n",
       "      <td>-2.698264e-17</td>\n",
       "      <td>1.001268</td>\n",
       "      <td>-1.968894</td>\n",
       "      <td>0.507899</td>\n",
       "      <td>0.507899</td>\n",
       "      <td>0.507899</td>\n",
       "      <td>0.507899</td>\n",
       "    </tr>\n",
       "    <tr>\n",
       "      <th>higher</th>\n",
       "      <td>395.0</td>\n",
       "      <td>2.248553e-16</td>\n",
       "      <td>1.001268</td>\n",
       "      <td>-4.330127</td>\n",
       "      <td>0.230940</td>\n",
       "      <td>0.230940</td>\n",
       "      <td>0.230940</td>\n",
       "      <td>0.230940</td>\n",
       "    </tr>\n",
       "    <tr>\n",
       "      <th>internet</th>\n",
       "      <td>395.0</td>\n",
       "      <td>-1.798842e-17</td>\n",
       "      <td>1.001268</td>\n",
       "      <td>-2.232677</td>\n",
       "      <td>0.447893</td>\n",
       "      <td>0.447893</td>\n",
       "      <td>0.447893</td>\n",
       "      <td>0.447893</td>\n",
       "    </tr>\n",
       "    <tr>\n",
       "      <th>romantic</th>\n",
       "      <td>395.0</td>\n",
       "      <td>-8.994212e-17</td>\n",
       "      <td>1.001268</td>\n",
       "      <td>-0.708450</td>\n",
       "      <td>-0.708450</td>\n",
       "      <td>-0.708450</td>\n",
       "      <td>1.411533</td>\n",
       "      <td>1.411533</td>\n",
       "    </tr>\n",
       "    <tr>\n",
       "      <th>famrel</th>\n",
       "      <td>395.0</td>\n",
       "      <td>-1.394103e-16</td>\n",
       "      <td>1.001268</td>\n",
       "      <td>-3.287804</td>\n",
       "      <td>0.062194</td>\n",
       "      <td>0.062194</td>\n",
       "      <td>1.178860</td>\n",
       "      <td>1.178860</td>\n",
       "    </tr>\n",
       "    <tr>\n",
       "      <th>freetime</th>\n",
       "      <td>395.0</td>\n",
       "      <td>1.079305e-16</td>\n",
       "      <td>1.001268</td>\n",
       "      <td>-2.240828</td>\n",
       "      <td>-0.236010</td>\n",
       "      <td>-0.236010</td>\n",
       "      <td>0.766399</td>\n",
       "      <td>1.768808</td>\n",
       "    </tr>\n",
       "    <tr>\n",
       "      <th>goout</th>\n",
       "      <td>395.0</td>\n",
       "      <td>-1.214219e-16</td>\n",
       "      <td>1.001268</td>\n",
       "      <td>-1.896683</td>\n",
       "      <td>-0.997295</td>\n",
       "      <td>-0.097908</td>\n",
       "      <td>0.801479</td>\n",
       "      <td>1.700867</td>\n",
       "    </tr>\n",
       "    <tr>\n",
       "      <th>Dalc</th>\n",
       "      <td>395.0</td>\n",
       "      <td>7.195369e-17</td>\n",
       "      <td>1.001268</td>\n",
       "      <td>-0.540699</td>\n",
       "      <td>-0.540699</td>\n",
       "      <td>-0.540699</td>\n",
       "      <td>0.583385</td>\n",
       "      <td>3.955638</td>\n",
       "    </tr>\n",
       "    <tr>\n",
       "      <th>Walc</th>\n",
       "      <td>395.0</td>\n",
       "      <td>8.094791e-17</td>\n",
       "      <td>1.001268</td>\n",
       "      <td>-1.003789</td>\n",
       "      <td>-1.003789</td>\n",
       "      <td>-0.226345</td>\n",
       "      <td>0.551100</td>\n",
       "      <td>2.105989</td>\n",
       "    </tr>\n",
       "    <tr>\n",
       "      <th>health</th>\n",
       "      <td>395.0</td>\n",
       "      <td>7.195369e-17</td>\n",
       "      <td>1.001268</td>\n",
       "      <td>-1.839649</td>\n",
       "      <td>-0.399289</td>\n",
       "      <td>0.320890</td>\n",
       "      <td>1.041070</td>\n",
       "      <td>1.041070</td>\n",
       "    </tr>\n",
       "    <tr>\n",
       "      <th>absences</th>\n",
       "      <td>395.0</td>\n",
       "      <td>5.396527e-17</td>\n",
       "      <td>1.001268</td>\n",
       "      <td>-0.842509</td>\n",
       "      <td>-0.842509</td>\n",
       "      <td>-0.221630</td>\n",
       "      <td>0.399249</td>\n",
       "      <td>4.279742</td>\n",
       "    </tr>\n",
       "    <tr>\n",
       "      <th>G1</th>\n",
       "      <td>395.0</td>\n",
       "      <td>-1.214219e-16</td>\n",
       "      <td>1.001268</td>\n",
       "      <td>-2.385787</td>\n",
       "      <td>-0.877487</td>\n",
       "      <td>0.027493</td>\n",
       "      <td>0.630813</td>\n",
       "      <td>2.440773</td>\n",
       "    </tr>\n",
       "    <tr>\n",
       "      <th>G2</th>\n",
       "      <td>395.0</td>\n",
       "      <td>2.248553e-17</td>\n",
       "      <td>1.001268</td>\n",
       "      <td>-2.229107</td>\n",
       "      <td>-0.517187</td>\n",
       "      <td>0.053452</td>\n",
       "      <td>0.624092</td>\n",
       "      <td>2.336011</td>\n",
       "    </tr>\n",
       "  </tbody>\n",
       "</table>\n",
       "</div>"
      ],
      "text/plain": [
       "            count          mean       std       min       25%       50%  \\\n",
       "intercept   395.0  1.000000e+00  0.000000  1.000000  1.000000  1.000000   \n",
       "sex         395.0 -7.195369e-17  1.001268 -0.948176 -0.948176 -0.948176   \n",
       "age         395.0  1.439074e-16  1.001268 -1.330954 -0.546287  0.238380   \n",
       "address     395.0 -1.618958e-16  1.001268 -1.867789  0.535392  0.535392   \n",
       "famsize     395.0  6.295948e-17  1.001268 -0.636941 -0.636941 -0.636941   \n",
       "Pstatus     395.0 -1.349132e-17  1.001268 -2.938392  0.340322  0.340322   \n",
       "Medu        395.0  5.396527e-17  1.001268 -2.514630 -0.685387  0.229234   \n",
       "Fedu        395.0 -1.439074e-16  1.001268 -2.320084 -0.479857 -0.479857   \n",
       "traveltime  395.0  3.597685e-17  1.001268 -0.643249 -0.643249 -0.643249   \n",
       "studytime   395.0  4.946817e-17  1.001268 -1.235351 -1.235351 -0.042286   \n",
       "failures    395.0 -1.349132e-17  1.001268 -0.449944 -0.449944 -0.449944   \n",
       "schoolsup   395.0  5.396527e-17  1.001268 -0.385040 -0.385040 -0.385040   \n",
       "famsup      395.0 -9.893633e-17  1.001268 -1.257656 -1.257656  0.795130   \n",
       "paid        395.0 -2.698264e-17  1.001268 -0.919671 -0.919671 -0.919671   \n",
       "activities  395.0 -9.893633e-17  1.001268 -1.017881 -1.017881  0.982433   \n",
       "nursery     395.0 -2.698264e-17  1.001268 -1.968894  0.507899  0.507899   \n",
       "higher      395.0  2.248553e-16  1.001268 -4.330127  0.230940  0.230940   \n",
       "internet    395.0 -1.798842e-17  1.001268 -2.232677  0.447893  0.447893   \n",
       "romantic    395.0 -8.994212e-17  1.001268 -0.708450 -0.708450 -0.708450   \n",
       "famrel      395.0 -1.394103e-16  1.001268 -3.287804  0.062194  0.062194   \n",
       "freetime    395.0  1.079305e-16  1.001268 -2.240828 -0.236010 -0.236010   \n",
       "goout       395.0 -1.214219e-16  1.001268 -1.896683 -0.997295 -0.097908   \n",
       "Dalc        395.0  7.195369e-17  1.001268 -0.540699 -0.540699 -0.540699   \n",
       "Walc        395.0  8.094791e-17  1.001268 -1.003789 -1.003789 -0.226345   \n",
       "health      395.0  7.195369e-17  1.001268 -1.839649 -0.399289  0.320890   \n",
       "absences    395.0  5.396527e-17  1.001268 -0.842509 -0.842509 -0.221630   \n",
       "G1          395.0 -1.214219e-16  1.001268 -2.385787 -0.877487  0.027493   \n",
       "G2          395.0  2.248553e-17  1.001268 -2.229107 -0.517187  0.053452   \n",
       "\n",
       "                 75%       max  \n",
       "intercept   1.000000  1.000000  \n",
       "sex         1.054656  1.054656  \n",
       "age         1.023046  4.161713  \n",
       "address     0.535392  0.535392  \n",
       "famsize     1.570004  1.570004  \n",
       "Pstatus     0.340322  0.340322  \n",
       "Medu        1.143856  1.143856  \n",
       "Fedu        0.440257  1.360371  \n",
       "traveltime  0.792251  3.663251  \n",
       "studytime  -0.042286  2.343844  \n",
       "failures   -0.449944  3.589323  \n",
       "schoolsup  -0.385040  2.597133  \n",
       "famsup      0.795130  0.795130  \n",
       "paid        1.087346  1.087346  \n",
       "activities  0.982433  0.982433  \n",
       "nursery     0.507899  0.507899  \n",
       "higher      0.230940  0.230940  \n",
       "internet    0.447893  0.447893  \n",
       "romantic    1.411533  1.411533  \n",
       "famrel      1.178860  1.178860  \n",
       "freetime    0.766399  1.768808  \n",
       "goout       0.801479  1.700867  \n",
       "Dalc        0.583385  3.955638  \n",
       "Walc        0.551100  2.105989  \n",
       "health      1.041070  1.041070  \n",
       "absences    0.399249  4.279742  \n",
       "G1          0.630813  2.440773  \n",
       "G2          0.624092  2.336011  "
      ]
     },
     "execution_count": 64,
     "metadata": {},
     "output_type": "execute_result"
    }
   ],
   "source": [
    "preproData.describe().T"
   ]
  },
  {
   "cell_type": "markdown",
   "metadata": {},
   "source": [
    "### Regression and Feature selection with the Lasso\n",
    "\n",
    "The lasso problem is finding a regressor $w$ such that minimizes\n",
    "$$  \\frac{1}{2 n_{samples}} \\|X w - y ||^2_2 + \\alpha \\|w\\|_1 $$\n",
    "\n",
    "and is popular for prediction as it simultaneously *selects features* thanks to the $\\ell_1$-term. The greater $\\alpha$ the fewer features."
   ]
  },
  {
   "cell_type": "code",
   "execution_count": 67,
   "metadata": {
    "tags": []
   },
   "outputs": [
    {
     "data": {
      "text/html": [
       "<style>#sk-container-id-15 {color: black;}#sk-container-id-15 pre{padding: 0;}#sk-container-id-15 div.sk-toggleable {background-color: white;}#sk-container-id-15 label.sk-toggleable__label {cursor: pointer;display: block;width: 100%;margin-bottom: 0;padding: 0.3em;box-sizing: border-box;text-align: center;}#sk-container-id-15 label.sk-toggleable__label-arrow:before {content: \"▸\";float: left;margin-right: 0.25em;color: #696969;}#sk-container-id-15 label.sk-toggleable__label-arrow:hover:before {color: black;}#sk-container-id-15 div.sk-estimator:hover label.sk-toggleable__label-arrow:before {color: black;}#sk-container-id-15 div.sk-toggleable__content {max-height: 0;max-width: 0;overflow: hidden;text-align: left;background-color: #f0f8ff;}#sk-container-id-15 div.sk-toggleable__content pre {margin: 0.2em;color: black;border-radius: 0.25em;background-color: #f0f8ff;}#sk-container-id-15 input.sk-toggleable__control:checked~div.sk-toggleable__content {max-height: 200px;max-width: 100%;overflow: auto;}#sk-container-id-15 input.sk-toggleable__control:checked~label.sk-toggleable__label-arrow:before {content: \"▾\";}#sk-container-id-15 div.sk-estimator input.sk-toggleable__control:checked~label.sk-toggleable__label {background-color: #d4ebff;}#sk-container-id-15 div.sk-label input.sk-toggleable__control:checked~label.sk-toggleable__label {background-color: #d4ebff;}#sk-container-id-15 input.sk-hidden--visually {border: 0;clip: rect(1px 1px 1px 1px);clip: rect(1px, 1px, 1px, 1px);height: 1px;margin: -1px;overflow: hidden;padding: 0;position: absolute;width: 1px;}#sk-container-id-15 div.sk-estimator {font-family: monospace;background-color: #f0f8ff;border: 1px dotted black;border-radius: 0.25em;box-sizing: border-box;margin-bottom: 0.5em;}#sk-container-id-15 div.sk-estimator:hover {background-color: #d4ebff;}#sk-container-id-15 div.sk-parallel-item::after {content: \"\";width: 100%;border-bottom: 1px solid gray;flex-grow: 1;}#sk-container-id-15 div.sk-label:hover label.sk-toggleable__label {background-color: #d4ebff;}#sk-container-id-15 div.sk-serial::before {content: \"\";position: absolute;border-left: 1px solid gray;box-sizing: border-box;top: 0;bottom: 0;left: 50%;z-index: 0;}#sk-container-id-15 div.sk-serial {display: flex;flex-direction: column;align-items: center;background-color: white;padding-right: 0.2em;padding-left: 0.2em;position: relative;}#sk-container-id-15 div.sk-item {position: relative;z-index: 1;}#sk-container-id-15 div.sk-parallel {display: flex;align-items: stretch;justify-content: center;background-color: white;position: relative;}#sk-container-id-15 div.sk-item::before, #sk-container-id-15 div.sk-parallel-item::before {content: \"\";position: absolute;border-left: 1px solid gray;box-sizing: border-box;top: 0;bottom: 0;left: 50%;z-index: -1;}#sk-container-id-15 div.sk-parallel-item {display: flex;flex-direction: column;z-index: 1;position: relative;background-color: white;}#sk-container-id-15 div.sk-parallel-item:first-child::after {align-self: flex-end;width: 50%;}#sk-container-id-15 div.sk-parallel-item:last-child::after {align-self: flex-start;width: 50%;}#sk-container-id-15 div.sk-parallel-item:only-child::after {width: 0;}#sk-container-id-15 div.sk-dashed-wrapped {border: 1px dashed gray;margin: 0 0.4em 0.5em 0.4em;box-sizing: border-box;padding-bottom: 0.4em;background-color: white;}#sk-container-id-15 div.sk-label label {font-family: monospace;font-weight: bold;display: inline-block;line-height: 1.2em;}#sk-container-id-15 div.sk-label-container {text-align: center;}#sk-container-id-15 div.sk-container {/* jupyter's `normalize.less` sets `[hidden] { display: none; }` but bootstrap.min.css set `[hidden] { display: none !important; }` so we also need the `!important` here to be able to override the default hidden behavior on the sphinx rendered scikit-learn.org. See: https://github.com/scikit-learn/scikit-learn/issues/21755 */display: inline-block !important;position: relative;}#sk-container-id-15 div.sk-text-repr-fallback {display: none;}</style><div id=\"sk-container-id-15\" class=\"sk-top-container\"><div class=\"sk-text-repr-fallback\"><pre>Lasso(alpha=0.1)</pre><b>In a Jupyter environment, please rerun this cell to show the HTML representation or trust the notebook. <br />On GitHub, the HTML representation is unable to render, please try loading this page with nbviewer.org.</b></div><div class=\"sk-container\" hidden><div class=\"sk-item\"><div class=\"sk-estimator sk-toggleable\"><input class=\"sk-toggleable__control sk-hidden--visually\" id=\"sk-estimator-id-15\" type=\"checkbox\" checked><label for=\"sk-estimator-id-15\" class=\"sk-toggleable__label sk-toggleable__label-arrow\">Lasso</label><div class=\"sk-toggleable__content\"><pre>Lasso(alpha=0.1)</pre></div></div></div></div></div>"
      ],
      "text/plain": [
       "Lasso(alpha=0.1)"
      ]
     },
     "execution_count": 67,
     "metadata": {},
     "output_type": "execute_result"
    },
    {
     "name": "stderr",
     "output_type": "stream",
     "text": [
      "5:80: E501 line too long (83 > 79 characters)\n"
     ]
    }
   ],
   "source": [
    "from sklearn.model_selection import train_test_split    # sklearn > ...\n",
    "\n",
    "from sklearn.linear_model import Lasso\n",
    "\n",
    "XTrain, XTest, yTrain, yTest = train_test_split(preproData, target, test_size=0.25)\n",
    "\n",
    "model = Lasso(alpha=0.1)\n",
    "model.fit(XTrain, yTrain)"
   ]
  },
  {
   "cell_type": "markdown",
   "metadata": {},
   "source": [
    "We can observe the regressor $w$ provided by the model, notice the sparsity."
   ]
  },
  {
   "cell_type": "code",
   "execution_count": 68,
   "metadata": {
    "tags": []
   },
   "outputs": [
    {
     "data": {
      "text/plain": [
       "array([ 0.00000000e+00,  1.44422082e-02, -1.08949692e-01, -0.00000000e+00,\n",
       "        4.39910045e-02,  0.00000000e+00, -0.00000000e+00, -0.00000000e+00,\n",
       "        0.00000000e+00, -0.00000000e+00, -7.53967731e-02,  7.73855501e-02,\n",
       "        0.00000000e+00,  0.00000000e+00, -6.69115320e-02, -1.64660021e-02,\n",
       "       -0.00000000e+00, -5.27720880e-02, -7.59028797e-02,  1.38121182e-01,\n",
       "        0.00000000e+00, -0.00000000e+00,  0.00000000e+00,  7.36633667e-02,\n",
       "        5.65579707e-04,  4.60786606e-01,  0.00000000e+00,  4.00258657e+00])"
      ]
     },
     "execution_count": 68,
     "metadata": {},
     "output_type": "execute_result"
    }
   ],
   "source": [
    "model.coef_"
   ]
  },
  {
   "cell_type": "markdown",
   "metadata": {},
   "source": [
    "We can observe which coefficients are put to $0$ and which ones are positively/negatively correlated."
   ]
  },
  {
   "cell_type": "code",
   "execution_count": 72,
   "metadata": {
    "tags": []
   },
   "outputs": [
    {
     "name": "stdout",
     "output_type": "stream",
     "text": [
      "Value      Feature\n",
      " 0.000      intercept\n",
      " 0.014      sex\n",
      "-0.109      age\n",
      "-0.000      address\n",
      " 0.044      famsize\n",
      " 0.000      Pstatus\n",
      "-0.000      Medu\n",
      "-0.000      Fedu\n",
      " 0.000      traveltime\n",
      "-0.000      studytime\n",
      "-0.075      failures\n",
      " 0.077      schoolsup\n",
      " 0.000      famsup\n",
      " 0.000      paid\n",
      "-0.067      activities\n",
      "-0.016      nursery\n",
      "-0.000      higher\n",
      "-0.053      internet\n",
      "-0.076      romantic\n",
      " 0.138      famrel\n",
      " 0.000      freetime\n",
      "-0.000      goout\n",
      " 0.000      Dalc\n",
      " 0.074      Walc\n",
      " 0.001      health\n",
      " 0.461      absences\n",
      " 0.000      G1\n",
      " 4.003      G2\n"
     ]
    }
   ],
   "source": [
    "print(\"Value      Feature\")\n",
    "for idx, val in enumerate(model.coef_):\n",
    "    print(\"{:6.3f}      {}\".format(val, preproData.columns[idx]))"
   ]
  },
  {
   "cell_type": "markdown",
   "metadata": {},
   "source": [
    "Let us take a look at our predictions."
   ]
  },
  {
   "cell_type": "code",
   "execution_count": 76,
   "metadata": {
    "tags": []
   },
   "outputs": [
    {
     "name": "stdout",
     "output_type": "stream",
     "text": [
      "Predicted    True\n",
      " 3.2          0\n",
      " 9.2          9\n",
      " 1.4          0\n",
      " 6.8          6\n",
      "10.5          11\n",
      "11.6          13\n",
      " 9.3          11\n",
      " 3.9          5\n",
      "10.4          10\n",
      "12.4          13\n",
      "19.5          18\n",
      "15.2          16\n",
      "13.0          12\n",
      "14.0          14\n",
      " 8.4          8\n",
      " 7.6          0\n",
      " 9.5          10\n",
      "15.4          14\n",
      "18.5          18\n",
      " 9.1          10\n",
      "15.2          16\n",
      " 1.1          0\n",
      "13.8          13\n",
      "14.1          14\n",
      "10.0          11\n",
      "13.0          13\n",
      " 9.1          10\n",
      "14.4          15\n",
      "10.4          11\n",
      " 8.4          10\n",
      " 6.4          6\n",
      "17.6          18\n",
      "16.1          15\n",
      "11.6          12\n",
      "16.0          15\n",
      "18.9          18\n",
      "12.1          11\n",
      "11.8          11\n",
      "15.4          16\n",
      "14.0          11\n",
      "11.4          13\n",
      "17.3          16\n",
      " 4.1          0\n",
      "12.0          11\n",
      "10.5          12\n",
      "16.0          17\n",
      " 1.4          0\n",
      " 4.4          0\n",
      "11.7          12\n",
      "13.3          15\n",
      "16.1          17\n",
      " 9.3          10\n",
      " 5.8          7\n",
      "14.2          13\n",
      "14.0          14\n",
      " 8.2          9\n",
      "10.6          11\n",
      " 8.4          9\n",
      " 8.6          9\n",
      " 9.9          10\n",
      "12.1          12\n",
      "10.3          8\n",
      " 8.6          10\n",
      "10.5          12\n",
      "10.0          10\n",
      " 0.9          0\n",
      "12.6          13\n",
      "12.7          14\n",
      " 4.8          5\n",
      "17.4          17\n",
      " 4.1          5\n",
      "12.8          13\n",
      " 8.7          8\n",
      "12.3          11\n",
      "10.3          10\n",
      "13.1          13\n",
      " 7.8          0\n",
      " 8.1          0\n",
      "14.8          15\n",
      "10.4          10\n",
      " 9.2          10\n",
      "12.6          12\n",
      " 9.5          11\n",
      "20.1          19\n",
      "10.5          10\n",
      " 9.4          11\n",
      " 8.6          10\n",
      " 9.5          11\n",
      " 8.8          10\n",
      " 9.8          9\n",
      "12.7          13\n",
      "12.7          13\n",
      "11.4          14\n",
      " 5.8          4\n",
      "13.3          14\n",
      "14.9          15\n",
      "13.3          12\n",
      " 9.2          10\n",
      "10.1          11\n"
     ]
    },
    {
     "name": "stderr",
     "output_type": "stream",
     "text": [
      "/var/folders/pg/f5ct00bd3yv6v4thnn6n4b1w0000gn/T/ipykernel_15293/1332922157.py:5: FutureWarning: Calling float on a single element Series is deprecated and will raise a TypeError in the future. Use float(ser.iloc[0]) instead\n",
      "  print(\"{:4.1f}          {:.0f}\".format(val, float(yTest.iloc[idx])))\n"
     ]
    }
   ],
   "source": [
    "targetPred = model.predict(XTest)\n",
    "\n",
    "print(\"Predicted    True\")\n",
    "for idx, val in enumerate(targetPred):\n",
    "    print(\"{:4.1f}          {:.0f}\".format(val, float(yTest.iloc[idx])))"
   ]
  },
  {
   "cell_type": "markdown",
   "metadata": {},
   "source": [
    "### Regularization path\n",
    "\n",
    "Selecting a good parameter $\\alpha$ is the role of the data scientist. For instance, a easy way to do is the following. "
   ]
  },
  {
   "cell_type": "code",
   "execution_count": 77,
   "metadata": {
    "tags": []
   },
   "outputs": [
    {
     "name": "stdout",
     "output_type": "stream",
     "text": [
      "[9.76562500e-04 1.68354067e-03 2.90233260e-03 5.00346363e-03\n",
      " 8.62569933e-03 1.48702368e-02 2.56354799e-02 4.41941738e-02\n",
      " 7.61883534e-02 1.31344580e-01 2.26430916e-01 3.90354591e-01\n",
      " 6.72950096e-01 1.16012939e+00 2.00000000e+00]\n"
     ]
    }
   ],
   "source": [
    "n_test = 15\n",
    "alpha_tab = np.logspace(-10, 1, base=2, num=n_test)\n",
    "print(alpha_tab)"
   ]
  },
  {
   "cell_type": "code",
   "execution_count": 86,
   "metadata": {
    "tags": []
   },
   "outputs": [
    {
     "name": "stderr",
     "output_type": "stream",
     "text": [
      "/var/folders/pg/f5ct00bd3yv6v4thnn6n4b1w0000gn/T/ipykernel_15293/2169175490.py:11: FutureWarning: Calling float on a single element Series is deprecated and will raise a TypeError in the future. Use float(ser.iloc[0]) instead\n",
      "  trainError[idx] = np.linalg.norm(yPredTrain-yTrain[\"G3\"].values)/yTrain.count()\n",
      "/var/folders/pg/f5ct00bd3yv6v4thnn6n4b1w0000gn/T/ipykernel_15293/2169175490.py:12: FutureWarning: Calling float on a single element Series is deprecated and will raise a TypeError in the future. Use float(ser.iloc[0]) instead\n",
      "  testError[idx] = np.linalg.norm(yPredTest-yTest[\"G3\"].values)/yTest.count()\n",
      "/var/folders/pg/f5ct00bd3yv6v4thnn6n4b1w0000gn/T/ipykernel_15293/2169175490.py:11: FutureWarning: Calling float on a single element Series is deprecated and will raise a TypeError in the future. Use float(ser.iloc[0]) instead\n",
      "  trainError[idx] = np.linalg.norm(yPredTrain-yTrain[\"G3\"].values)/yTrain.count()\n",
      "/var/folders/pg/f5ct00bd3yv6v4thnn6n4b1w0000gn/T/ipykernel_15293/2169175490.py:12: FutureWarning: Calling float on a single element Series is deprecated and will raise a TypeError in the future. Use float(ser.iloc[0]) instead\n",
      "  testError[idx] = np.linalg.norm(yPredTest-yTest[\"G3\"].values)/yTest.count()\n",
      "/var/folders/pg/f5ct00bd3yv6v4thnn6n4b1w0000gn/T/ipykernel_15293/2169175490.py:11: FutureWarning: Calling float on a single element Series is deprecated and will raise a TypeError in the future. Use float(ser.iloc[0]) instead\n",
      "  trainError[idx] = np.linalg.norm(yPredTrain-yTrain[\"G3\"].values)/yTrain.count()\n",
      "/var/folders/pg/f5ct00bd3yv6v4thnn6n4b1w0000gn/T/ipykernel_15293/2169175490.py:12: FutureWarning: Calling float on a single element Series is deprecated and will raise a TypeError in the future. Use float(ser.iloc[0]) instead\n",
      "  testError[idx] = np.linalg.norm(yPredTest-yTest[\"G3\"].values)/yTest.count()\n",
      "/var/folders/pg/f5ct00bd3yv6v4thnn6n4b1w0000gn/T/ipykernel_15293/2169175490.py:11: FutureWarning: Calling float on a single element Series is deprecated and will raise a TypeError in the future. Use float(ser.iloc[0]) instead\n",
      "  trainError[idx] = np.linalg.norm(yPredTrain-yTrain[\"G3\"].values)/yTrain.count()\n",
      "/var/folders/pg/f5ct00bd3yv6v4thnn6n4b1w0000gn/T/ipykernel_15293/2169175490.py:12: FutureWarning: Calling float on a single element Series is deprecated and will raise a TypeError in the future. Use float(ser.iloc[0]) instead\n",
      "  testError[idx] = np.linalg.norm(yPredTest-yTest[\"G3\"].values)/yTest.count()\n",
      "/var/folders/pg/f5ct00bd3yv6v4thnn6n4b1w0000gn/T/ipykernel_15293/2169175490.py:11: FutureWarning: Calling float on a single element Series is deprecated and will raise a TypeError in the future. Use float(ser.iloc[0]) instead\n",
      "  trainError[idx] = np.linalg.norm(yPredTrain-yTrain[\"G3\"].values)/yTrain.count()\n",
      "/var/folders/pg/f5ct00bd3yv6v4thnn6n4b1w0000gn/T/ipykernel_15293/2169175490.py:12: FutureWarning: Calling float on a single element Series is deprecated and will raise a TypeError in the future. Use float(ser.iloc[0]) instead\n",
      "  testError[idx] = np.linalg.norm(yPredTest-yTest[\"G3\"].values)/yTest.count()\n",
      "/var/folders/pg/f5ct00bd3yv6v4thnn6n4b1w0000gn/T/ipykernel_15293/2169175490.py:11: FutureWarning: Calling float on a single element Series is deprecated and will raise a TypeError in the future. Use float(ser.iloc[0]) instead\n",
      "  trainError[idx] = np.linalg.norm(yPredTrain-yTrain[\"G3\"].values)/yTrain.count()\n",
      "/var/folders/pg/f5ct00bd3yv6v4thnn6n4b1w0000gn/T/ipykernel_15293/2169175490.py:12: FutureWarning: Calling float on a single element Series is deprecated and will raise a TypeError in the future. Use float(ser.iloc[0]) instead\n",
      "  testError[idx] = np.linalg.norm(yPredTest-yTest[\"G3\"].values)/yTest.count()\n",
      "/var/folders/pg/f5ct00bd3yv6v4thnn6n4b1w0000gn/T/ipykernel_15293/2169175490.py:11: FutureWarning: Calling float on a single element Series is deprecated and will raise a TypeError in the future. Use float(ser.iloc[0]) instead\n",
      "  trainError[idx] = np.linalg.norm(yPredTrain-yTrain[\"G3\"].values)/yTrain.count()\n",
      "/var/folders/pg/f5ct00bd3yv6v4thnn6n4b1w0000gn/T/ipykernel_15293/2169175490.py:12: FutureWarning: Calling float on a single element Series is deprecated and will raise a TypeError in the future. Use float(ser.iloc[0]) instead\n",
      "  testError[idx] = np.linalg.norm(yPredTest-yTest[\"G3\"].values)/yTest.count()\n",
      "/var/folders/pg/f5ct00bd3yv6v4thnn6n4b1w0000gn/T/ipykernel_15293/2169175490.py:11: FutureWarning: Calling float on a single element Series is deprecated and will raise a TypeError in the future. Use float(ser.iloc[0]) instead\n",
      "  trainError[idx] = np.linalg.norm(yPredTrain-yTrain[\"G3\"].values)/yTrain.count()\n",
      "/var/folders/pg/f5ct00bd3yv6v4thnn6n4b1w0000gn/T/ipykernel_15293/2169175490.py:12: FutureWarning: Calling float on a single element Series is deprecated and will raise a TypeError in the future. Use float(ser.iloc[0]) instead\n",
      "  testError[idx] = np.linalg.norm(yPredTest-yTest[\"G3\"].values)/yTest.count()\n",
      "/var/folders/pg/f5ct00bd3yv6v4thnn6n4b1w0000gn/T/ipykernel_15293/2169175490.py:11: FutureWarning: Calling float on a single element Series is deprecated and will raise a TypeError in the future. Use float(ser.iloc[0]) instead\n",
      "  trainError[idx] = np.linalg.norm(yPredTrain-yTrain[\"G3\"].values)/yTrain.count()\n",
      "/var/folders/pg/f5ct00bd3yv6v4thnn6n4b1w0000gn/T/ipykernel_15293/2169175490.py:12: FutureWarning: Calling float on a single element Series is deprecated and will raise a TypeError in the future. Use float(ser.iloc[0]) instead\n",
      "  testError[idx] = np.linalg.norm(yPredTest-yTest[\"G3\"].values)/yTest.count()\n",
      "/var/folders/pg/f5ct00bd3yv6v4thnn6n4b1w0000gn/T/ipykernel_15293/2169175490.py:11: FutureWarning: Calling float on a single element Series is deprecated and will raise a TypeError in the future. Use float(ser.iloc[0]) instead\n",
      "  trainError[idx] = np.linalg.norm(yPredTrain-yTrain[\"G3\"].values)/yTrain.count()\n",
      "/var/folders/pg/f5ct00bd3yv6v4thnn6n4b1w0000gn/T/ipykernel_15293/2169175490.py:12: FutureWarning: Calling float on a single element Series is deprecated and will raise a TypeError in the future. Use float(ser.iloc[0]) instead\n",
      "  testError[idx] = np.linalg.norm(yPredTest-yTest[\"G3\"].values)/yTest.count()\n",
      "/var/folders/pg/f5ct00bd3yv6v4thnn6n4b1w0000gn/T/ipykernel_15293/2169175490.py:11: FutureWarning: Calling float on a single element Series is deprecated and will raise a TypeError in the future. Use float(ser.iloc[0]) instead\n",
      "  trainError[idx] = np.linalg.norm(yPredTrain-yTrain[\"G3\"].values)/yTrain.count()\n",
      "/var/folders/pg/f5ct00bd3yv6v4thnn6n4b1w0000gn/T/ipykernel_15293/2169175490.py:12: FutureWarning: Calling float on a single element Series is deprecated and will raise a TypeError in the future. Use float(ser.iloc[0]) instead\n",
      "  testError[idx] = np.linalg.norm(yPredTest-yTest[\"G3\"].values)/yTest.count()\n",
      "/var/folders/pg/f5ct00bd3yv6v4thnn6n4b1w0000gn/T/ipykernel_15293/2169175490.py:11: FutureWarning: Calling float on a single element Series is deprecated and will raise a TypeError in the future. Use float(ser.iloc[0]) instead\n",
      "  trainError[idx] = np.linalg.norm(yPredTrain-yTrain[\"G3\"].values)/yTrain.count()\n",
      "/var/folders/pg/f5ct00bd3yv6v4thnn6n4b1w0000gn/T/ipykernel_15293/2169175490.py:12: FutureWarning: Calling float on a single element Series is deprecated and will raise a TypeError in the future. Use float(ser.iloc[0]) instead\n",
      "  testError[idx] = np.linalg.norm(yPredTest-yTest[\"G3\"].values)/yTest.count()\n",
      "/var/folders/pg/f5ct00bd3yv6v4thnn6n4b1w0000gn/T/ipykernel_15293/2169175490.py:11: FutureWarning: Calling float on a single element Series is deprecated and will raise a TypeError in the future. Use float(ser.iloc[0]) instead\n",
      "  trainError[idx] = np.linalg.norm(yPredTrain-yTrain[\"G3\"].values)/yTrain.count()\n",
      "/var/folders/pg/f5ct00bd3yv6v4thnn6n4b1w0000gn/T/ipykernel_15293/2169175490.py:12: FutureWarning: Calling float on a single element Series is deprecated and will raise a TypeError in the future. Use float(ser.iloc[0]) instead\n",
      "  testError[idx] = np.linalg.norm(yPredTest-yTest[\"G3\"].values)/yTest.count()\n",
      "/var/folders/pg/f5ct00bd3yv6v4thnn6n4b1w0000gn/T/ipykernel_15293/2169175490.py:11: FutureWarning: Calling float on a single element Series is deprecated and will raise a TypeError in the future. Use float(ser.iloc[0]) instead\n",
      "  trainError[idx] = np.linalg.norm(yPredTrain-yTrain[\"G3\"].values)/yTrain.count()\n",
      "/var/folders/pg/f5ct00bd3yv6v4thnn6n4b1w0000gn/T/ipykernel_15293/2169175490.py:12: FutureWarning: Calling float on a single element Series is deprecated and will raise a TypeError in the future. Use float(ser.iloc[0]) instead\n",
      "  testError[idx] = np.linalg.norm(yPredTest-yTest[\"G3\"].values)/yTest.count()\n",
      "/var/folders/pg/f5ct00bd3yv6v4thnn6n4b1w0000gn/T/ipykernel_15293/2169175490.py:11: FutureWarning: Calling float on a single element Series is deprecated and will raise a TypeError in the future. Use float(ser.iloc[0]) instead\n",
      "  trainError[idx] = np.linalg.norm(yPredTrain-yTrain[\"G3\"].values)/yTrain.count()\n",
      "/var/folders/pg/f5ct00bd3yv6v4thnn6n4b1w0000gn/T/ipykernel_15293/2169175490.py:12: FutureWarning: Calling float on a single element Series is deprecated and will raise a TypeError in the future. Use float(ser.iloc[0]) instead\n",
      "  testError[idx] = np.linalg.norm(yPredTest-yTest[\"G3\"].values)/yTest.count()\n",
      "11:80: E501 line too long (83 > 79 characters)\n",
      "13:38: E225 missing whitespace around operator\n"
     ]
    }
   ],
   "source": [
    "trainError = np.zeros(n_test)\n",
    "testError = np.zeros(n_test)\n",
    "featureNum = np.zeros(n_test)\n",
    "\n",
    "for idx, alpha in enumerate(alpha_tab):\n",
    "    model = Lasso(alpha=alpha)\n",
    "    model.fit(XTrain, yTrain)\n",
    "    yPredTrain = model.predict(XTrain)\n",
    "    yPredTest = model.predict(XTest)\n",
    "\n",
    "    trainError[idx] = np.linalg.norm(yPredTrain-yTrain[\"G3\"].values)/yTrain.count()\n",
    "    testError[idx] = np.linalg.norm(yPredTest-yTest[\"G3\"].values)/yTest.count()\n",
    "    featureNum[idx] = sum(model.coef_!=0)\n",
    "\n",
    "\n",
    "alpha_opt = alpha_tab[np.argmin(testError)]"
   ]
  },
  {
   "cell_type": "code",
   "execution_count": 90,
   "metadata": {
    "tags": []
   },
   "outputs": [
    {
     "data": {
      "text/plain": [
       "Text(0.5, 0, 'alpha')"
      ]
     },
     "execution_count": 90,
     "metadata": {},
     "output_type": "execute_result"
    },
    {
     "data": {
      "image/png": "[encoded data removed]",
      "text/plain": [
       "<Figure size 640x480 with 3 Axes>"
      ]
     },
     "metadata": {},
     "output_type": "display_data"
    }
   ],
   "source": [
    "import matplotlib.pyplot as plt\n",
    "import seaborn as sns\n",
    "sns.set()\n",
    "%matplotlib inline\n",
    "\n",
    "\n",
    "plt.subplot(311)\n",
    "plt.xscale(\"log\")\n",
    "plt.plot(alpha_tab, trainError, label=\"train error\")\n",
    "plt.xlim([min(alpha_tab), max(alpha_tab)])\n",
    "plt.legend()\n",
    "plt.xticks([])\n",
    "plt.axvline(x=alpha_opt)\n",
    "plt.ylabel(\"error\")\n",
    "\n",
    "plt.subplot(312)\n",
    "plt.xscale(\"log\")\n",
    "plt.plot(alpha_tab, testError, 'r', label=\"test error\")\n",
    "plt.xlim([min(alpha_tab), max(alpha_tab)])\n",
    "# plt.ylim([0.19, 0.21])\n",
    "plt.legend()\n",
    "plt.axvline(x=alpha_opt)\n",
    "plt.xticks([])\n",
    "plt.ylabel(\"error\")\n",
    "\n",
    "plt.subplot(313)\n",
    "plt.xscale(\"log\")\n",
    "plt.scatter(alpha_tab, featureNum)\n",
    "plt.xlim([min(alpha_tab), max(alpha_tab)])\n",
    "plt.ylim([0, 28])\n",
    "plt.axvline(x=alpha_opt)\n",
    "plt.ylabel(\"nb. of features\")\n",
    "plt.xlabel(\"alpha\")"
   ]
  },
  {
   "cell_type": "markdown",
   "metadata": {},
   "source": [
    "##  Exercises\n",
    "\n"
   ]
  },
  {
   "cell_type": "markdown",
   "metadata": {},
   "source": [
    "> **Exercise:** a very popular binary classification exercise is the [survival prediction from Titanic shipwreck on Kaggle](https://www.kaggle.com/c/titanic)\n",
    ">\n",
    "> *The sinking of the RMS Titanic is one of the most infamous shipwrecks in history.  On April 15, 1912, during her maiden voyage, the Titanic sank after colliding with an iceberg, killing 1502 out of 2224 passengers and crew. This sensational tragedy shocked the international community and led to better safety regulations for ships.*\n",
    ">\n",
    "> *One of the reasons that the shipwreck led to such loss of life was that there were not enough lifeboats for the passengers and crew. Although there was some element of luck involved in surviving the sinking, some groups of people were more likely to survive than others, such as women, children, and the upper-class.*\n",
    ">\n",
    "> *In this challenge, we ask you to complete the analysis of what sorts of people were likely to survive. In particular, we ask you to apply the tools of machine learning to predict which passengers survived the tragedy.*\n",
    ">\n",
    ">\n",
    "> The data, taken from [Kaggle](https://www.kaggle.com/c/titanic) is located in `data/titanic/train.csv` and has the following form:\n",
    "\n",
    "<table>\n",
    "<tbody>\n",
    "<tr><th><b>Feature</b></th><th><b>Definition</b></th><th><b>Comment</b></th></tr>\n",
    "<tr>\n",
    "<td>PassengerId</td>\n",
    "<td>ID</td>\n",
    "<td>numeric</td>\n",
    "</tr>\n",
    "<tr>\n",
    "<td>Survival</td>\n",
    "<td>Survival of the passenger</td>\n",
    "<td>0 = No, 1 = Yes <b>target to predict</b></td>\n",
    "</tr>\n",
    "<tr>\n",
    "<td>Pclass</td>\n",
    "<td>Ticket class</td>\n",
    "<td>1 = 1st, 2 = 2nd, 3 = 3rd</td>\n",
    "</tr>\n",
    "<tr>\n",
    "<td>Name</td>\n",
    "<td>Full name w/ Mr. Mrs. etc.</td>\n",
    "<td>string</td>\n",
    "</tr>\n",
    "<tr>\n",
    "<td>Sex</td>\n",
    "<td>Sex</td>\n",
    "<td><tt>male</tt> or <tt>female</tt></td>\n",
    "</tr>\n",
    "<tr>\n",
    "<td>Age</td>\n",
    "<td>Age in years</td>\n",
    "<td>numeric</td>\n",
    "</tr>\n",
    "<tr>\n",
    "<td>SibSp</td>\n",
    "<td># of siblings / spouses aboard the Titanic</td>\n",
    "<td>numeric</td>\n",
    "</tr>\n",
    "<tr>\n",
    "<td>Parch</td>\n",
    "<td># of parents / children aboard the Titanic</td>\n",
    "<td></td>\n",
    "</tr>\n",
    "<tr>\n",
    "<td>Ticket</td>\n",
    "<td>Ticket number</td>\n",
    "<td>quite messy</td>\n",
    "</tr>\n",
    "<tr>\n",
    "<td>Fare</td>\n",
    "<td>Passenger fare</td>\n",
    "<td></td>\n",
    "</tr>\n",
    "<tr>\n",
    "<td>cabin</td>\n",
    "<td>Cabin number</td>\n",
    "<td>letter + number (e.g. C85), often missing</td>\n",
    "</tr>\n",
    "<tr>\n",
    "<td>Embarked</td>\n",
    "<td>Port of Embarkation</td>\n",
    "<td>C = Cherbourg, Q = Queenstown, S = Southampton</td>\n",
    "</tr>\n",
    "</tbody>\n",
    "</table>\n",
    "\n",
    "> * Load the dataset and preprocess the features. (you can remove features that seem uninteresting to you).\n",
    "> * Perform binary classification to predict the survival of a passenger depending on its information.\n",
    "> * Validate you method on the test set  `data/titanic/test.csv`\n",
    "> * Perform some feature engineering to improve the performance of you classifier (see e.g. https://triangleinequality.wordpress.com/2013/09/08/basic-feature-engineering-with-the-titanic-data/).\n"
   ]
  },
  {
   "cell_type": "code",
   "execution_count": null,
   "metadata": {},
   "outputs": [],
   "source": []
  },
  {
   "cell_type": "markdown",
   "metadata": {},
   "source": [
    "> **Exercise:** [House price prediction in Ames, Iowa on Kaggle](https://www.kaggle.com/c/house-prices-advanced-regression-techniques)\n",
    ">\n",
    "> The data, taken from [Kaggle](https://www.kaggle.com/c/house-prices-advanced-regression-techniques), is located in `data/house_prices/train.csv`.\n",
    ">\n",
    "> * Try to reach the best accurracy in terms of mean absolute error on the log of the prices:\n",
    "$$Error = \\frac{1}{n} \\sum_{i=1}^n | \\log(predicted_i) - \\log(true_i) |$$\n",
    "> on the test set `data/house_prices/test.csv`.\n",
    "> * Which features (original or made up) are the most relevant? (see `data/house_prices/data_description.txt`)"
   ]
  },
  {
   "cell_type": "code",
   "execution_count": null,
   "metadata": {},
   "outputs": [],
   "source": []
  }
 ],
 "metadata": {
  "kernelspec": {
   "display_name": "Python 3 (ipykernel)",
   "language": "python",
   "name": "python3"
  },
  "language_info": {
   "codemirror_mode": {
    "name": "ipython",
    "version": 3
   },
   "file_extension": ".py",
   "mimetype": "text/x-python",
   "name": "python",
   "nbconvert_exporter": "python",
   "pygments_lexer": "ipython3",
   "version": "3.11.5"
  },
  "varInspector": {
   "cols": {
    "lenName": 16,
    "lenType": 16,
    "lenVar": 40
   },
   "kernels_config": {
    "python": {
     "delete_cmd_postfix": "",
     "delete_cmd_prefix": "del ",
     "library": "var_list.py",
     "varRefreshCmd": "print(var_dic_list())"
    },
    "r": {
     "delete_cmd_postfix": ") ",
     "delete_cmd_prefix": "rm(",
     "library": "var_list.r",
     "varRefreshCmd": "cat(var_dic_list()) "
    }
   },
   "position": {
    "height": "462px",
    "left": "1160px",
    "right": "47px",
    "top": "174px",
    "width": "553px"
   },
   "types_to_exclude": [
    "module",
    "function",
    "builtin_function_or_method",
    "instance",
    "_Feature"
   ],
   "window_display": false
  }
 },
 "nbformat": 4,
 "nbformat_minor": 4
}
