{
 "cells": [
  {
   "cell_type": "markdown",
   "metadata": {},
   "source": [
    "\n",
    "<table>\n",
    "<tr>\n",
    "<td width=15%><img src=\"./img/UGA.png\"></img></td>\n",
    "<td><center><h1>Introduction to Python for Data Sciences</h1></center></td>\n",
    "<td width=15%><a href=\"http://www.iutzeler.org\" style=\"font-size: 16px; font-weight: bold\">Franck Iutzeler</a> </td>\n",
    "</tr>\n",
    "</table>\n"
   ]
  },
  {
   "cell_type": "markdown",
   "metadata": {},
   "source": [
    "\n",
    "<br/><br/>\n",
    "\n",
    "<center><a style=\"font-size: 40pt; font-weight: bold\">Chap. 2 - Numpy and co. </a></center> \n",
    "\n",
    "<br/><br/>\n",
    "\n"
   ]
  },
  {
   "cell_type": "markdown",
   "metadata": {},
   "source": [
    "%load_ext pycodestyle_magic\n",
    "%pycodestyle_on# 1- Packages\n",
    "\n",
    "\n",
    "\n",
    "Python has a large standard library, commonly cited as one of Python's greatest strengths, providing tools suited to many tasks. As of May, 2017, the official repository containing third-party software for Python, contains over 107,000 packages.\n",
    "\n",
    "A *package* is a collection of *modules* i.e. groups of functions, classes, constants, types, etc."
   ]
  },
  {
   "cell_type": "markdown",
   "metadata": {},
   "source": [
    "## Built-in modules\n",
    "\n",
    "To use a module, you have to *import* it using the command `import`."
   ]
  },
  {
   "cell_type": "code",
   "execution_count": 151,
   "metadata": {
    "tags": []
   },
   "outputs": [],
   "source": [
    "import math"
   ]
  },
  {
   "cell_type": "markdown",
   "metadata": {},
   "source": [
    "You can now use it in the code by using its name as a prefix. "
   ]
  },
  {
   "cell_type": "code",
   "execution_count": 152,
   "metadata": {
    "tags": []
   },
   "outputs": [],
   "source": [
    "x = math.cos(2 * math.pi)\n",
    "\n",
    "print(x)"
   ]
  },
  {
   "cell_type": "markdown",
   "metadata": {},
   "source": [
    "To explore the function and other content of the module/library:\n",
    " * Use the web documentation (e.g. for the `math` library <a href=\"https://docs.python.org/3/library/math.html\">Doc for Python 3</a>)\n",
    " * Use the built-in`help`"
   ]
  },
  {
   "cell_type": "code",
   "execution_count": 153,
   "metadata": {
    "tags": []
   },
   "outputs": [],
   "source": [
    "help(math)"
   ]
  },
  {
   "cell_type": "code",
   "execution_count": 154,
   "metadata": {
    "tags": []
   },
   "outputs": [],
   "source": [
    "help(math.sqrt)"
   ]
  },
  {
   "cell_type": "markdown",
   "metadata": {},
   "source": [
    "Using the name prefix can make the code obfuscated as it can get quite verbose (e.g. `scipy.optimize.minimize`) so Python provides simpler ways to import:\n",
    "* `import name as nickname`: the prefix to call is now `nickname`"
   ]
  },
  {
   "cell_type": "code",
   "execution_count": 155,
   "metadata": {
    "tags": []
   },
   "outputs": [],
   "source": [
    "import math as m\n",
    "\n",
    "print(m.pi)"
   ]
  },
  {
   "cell_type": "markdown",
   "metadata": {},
   "source": [
    "* `from name import function1,constant1` : `function1`  `constant1` can now be called directly. You can even import all contents with `from name import *` but this may be dangerous as names may conflict or override former ones, it is thus not advised except on user-generated modules."
   ]
  },
  {
   "cell_type": "code",
   "execution_count": 156,
   "metadata": {
    "tags": []
   },
   "outputs": [],
   "source": [
    "from math import e, log\n",
    "\n",
    "print(log(e**4))"
   ]
  },
  {
   "cell_type": "markdown",
   "metadata": {},
   "source": [
    "\n",
    "## Installing packages\n",
    "\n",
    "\n",
    "Python comes with a lot a lot of packages (ie. functions and small programs), provided by the community. To install a package `SomePackage`, the recommended way is know to use `pip` :\n",
    "\n",
    "`python -m pip install SomePackage` or simply `pip install SomePackage`\n",
    "\n",
    "\n",
    "See https://docs.python.org/3.9/installing/index.html for details on installing packages (and if you do not have `pip` installed, see https://packaging.python.org/tutorials/installing-packages/#requirements-for-installing-packages )\n",
    "\n",
    "\n",
    "*Warning:* this is the preferred way, however:\n",
    "* if you are using Anaconda, it is preferrable to install packages directly using the Anaconda interface, see https://docs.anaconda.com/anaconda/navigator/tutorials/manage-packages/ \n",
    "* If you don't have administrator rights on the machine (eg. at university), use `pip --user install SomePackage` to install a package locally."
   ]
  },
  {
   "cell_type": "markdown",
   "metadata": {},
   "source": [
    "Once installed, you can import the packages as above. "
   ]
  },
  {
   "cell_type": "code",
   "execution_count": 157,
   "metadata": {
    "tags": []
   },
   "outputs": [],
   "source": [
    "import scipy"
   ]
  },
  {
   "cell_type": "code",
   "execution_count": 158,
   "metadata": {
    "tags": []
   },
   "outputs": [],
   "source": [
    "help(scipy)"
   ]
  },
  {
   "cell_type": "markdown",
   "metadata": {},
   "source": [
    "Since a package (like `scipy`) is a collection of modules, you can import only a part of it. See https://docs.scipy.org/doc/scipy/reference/tutorial/index.html#user-guide for instance."
   ]
  },
  {
   "cell_type": "code",
   "execution_count": 159,
   "metadata": {
    "tags": []
   },
   "outputs": [
    {
     "data": {
      "text/plain": [
       "0.3520653267642995"
      ]
     },
     "execution_count": 159,
     "metadata": {},
     "output_type": "execute_result"
    }
   ],
   "source": [
    "from scipy.stats import norm\n",
    "\n",
    "norm.pdf(0.5)"
   ]
  },
  {
   "cell_type": "markdown",
   "metadata": {},
   "source": [
    "## Creating you own modules [*]\n",
    "\n",
    "In order to reuse parts of your code, it is often efficient to write you own modules for often used functions. The *importation* of the module is the same as for other libraries to the difference that you have to give the (relative) path to the module.\n",
    "\n",
    "In our example, the module file is `pyds.py` in the `./lib/` folder (you may open it to see what it contains). Two solutions to give the (relative) path to the module:\n",
    "* add the folder `./lib` to the folder list of python"
   ]
  },
  {
   "cell_type": "code",
   "execution_count": 160,
   "metadata": {
    "tags": []
   },
   "outputs": [
    {
     "name": "stderr",
     "output_type": "stream",
     "text": [
      "5:1: E402 module level import not at top of file\n"
     ]
    }
   ],
   "source": [
    "import sys\n",
    "\n",
    "sys.path.append(\"./lib\")\n",
    "\n",
    "import pyds as pyds1\n",
    "\n",
    "help(pyds1)"
   ]
  },
  {
   "cell_type": "markdown",
   "metadata": {},
   "source": [
    "* Use the `lib` folder name as a package proxy (requires the presence of a - potentially void - file named `__init__.py` in the folder)"
   ]
  },
  {
   "cell_type": "code",
   "execution_count": 161,
   "metadata": {
    "tags": []
   },
   "outputs": [],
   "source": [
    "import lib.pyds as pyds2\n",
    "\n",
    "pyds2.printQuote()"
   ]
  },
  {
   "cell_type": "markdown",
   "metadata": {},
   "source": [
    "# 2- Numpy and Matplotlib\n",
    "\n",
    "\n",
    "\n",
    "**Numpy** is a numerical calculus and algebra package that is widely used, notably providing the *array* (vector/matrix format) type used in almost all numerical projects.  [Documentation](https://numpy.org/doc/stable/) and [Reference](https://numpy.org/doc/stable/reference/index.html)\n",
    "\n",
    "\n",
    "**Matplotlib** is a module for generating 2D and 3D graphics. [Documentation ](https://matplotlib.org/stable/contents.html) \n",
    "\n",
    "\n",
    "It is common to import them with the respective nicknames **np** and **plt** (for `matplotlib.pyplot`)."
   ]
  },
  {
   "cell_type": "code",
   "execution_count": 162,
   "metadata": {
    "tags": []
   },
   "outputs": [],
   "source": [
    "import numpy as np\n",
    "import matplotlib.pyplot as plt\n",
    "\n",
    "%matplotlib inline"
   ]
  },
  {
   "cell_type": "markdown",
   "metadata": {},
   "source": [
    "The last line `%matplotlib inline` is a command for Jupyter to indicate that we want our figures in the notebook and not in a separate window."
   ]
  },
  {
   "cell_type": "markdown",
   "metadata": {},
   "source": [
    "## Numpy *arrays*\n",
    "\n",
    "In Numpy, the type *array* is used for vector, matrices, tensors (a matrix type also exists but is more seldomly used).\n",
    "\n",
    "Numpy arrays can be defined either directly from a list or outputted by a function.\n",
    "\n",
    "\n",
    "### One-dimensional arrays"
   ]
  },
  {
   "cell_type": "code",
   "execution_count": 17,
   "metadata": {
    "tags": []
   },
   "outputs": [
    {
     "name": "stdout",
     "output_type": "stream",
     "text": [
      "[ 1.   2.5  5.  10. ] <class 'numpy.ndarray'>\n"
     ]
    }
   ],
   "source": [
    "x = np.array([1, 2.5, 5, 10])\n",
    "print(x, type(x))"
   ]
  },
  {
   "cell_type": "code",
   "execution_count": 18,
   "metadata": {
    "tags": []
   },
   "outputs": [
    {
     "name": "stdout",
     "output_type": "stream",
     "text": [
      "[0.94275584 0.30853039 0.12702418 0.99268977] <class 'numpy.ndarray'>\n"
     ]
    }
   ],
   "source": [
    "y = np.random.rand(4)\n",
    "print(y, type(y))"
   ]
  },
  {
   "cell_type": "markdown",
   "metadata": {},
   "source": [
    "## Plotting\n",
    "\n",
    "Visualizing the data is quite simple with pyplot:\n",
    "* Initialize a figure with  `plt.figure()`\n",
    "* Plot something with ... `plt.plot` (see the [documentation](https://matplotlib.org/stable/api/_as_gen/matplotlib.pyplot.html?highlight=pyplot#module-matplotlib.pyplot) )\n",
    "* Fix labels, titles, axes\n",
    "* Eventually save the result with `plt.savefig`\n",
    "* Show the figure with `plt.show()`"
   ]
  },
  {
   "cell_type": "code",
   "execution_count": 19,
   "metadata": {
    "tags": []
   },
   "outputs": [
    {
     "data": {
      "image/png": "[encoded data removed]",
      "text/plain": [
       "<Figure size 640x480 with 1 Axes>"
      ]
     },
     "metadata": {},
     "output_type": "display_data"
    }
   ],
   "source": [
    "plt.figure()\n",
    "\n",
    "plt.plot(x, y, 'bd--', label='y(x)')\n",
    "\n",
    "plt.legend(loc='lower right')\n",
    "plt.xlabel('x')\n",
    "plt.ylabel('y')\n",
    "plt.title('Sample Figure')\n",
    "plt.xlim([0, 10])\n",
    "plt.ylim([0, 1])\n",
    "plt.savefig('img/sample.png')\n",
    "plt.show()"
   ]
  },
  {
   "cell_type": "markdown",
   "metadata": {},
   "source": [
    "## Matrices\n",
    "\n",
    "Matrices are simply 2D arrays. Since vectors and matrices share the same type, the notion of *shape* is very important."
   ]
  },
  {
   "cell_type": "code",
   "execution_count": 21,
   "metadata": {
    "tags": []
   },
   "outputs": [
    {
     "name": "stdout",
     "output_type": "stream",
     "text": [
      "[[ 0.25  6.2   1.   10.  ]\n",
      " [12.    6.2   6.   -5.3 ]] <class 'numpy.ndarray'>\n"
     ]
    }
   ],
   "source": [
    "M = np.array([[0.25, 6.2, 1, 10], [12, 6.2, 6, -5.3]])\n",
    "print(M, type(M))"
   ]
  },
  {
   "cell_type": "code",
   "execution_count": 22,
   "metadata": {
    "tags": []
   },
   "outputs": [
    {
     "name": "stdout",
     "output_type": "stream",
     "text": [
      "[ 1.   2.5  5.  10. ] <class 'numpy.ndarray'>\n"
     ]
    }
   ],
   "source": [
    "print(x, type(x))"
   ]
  },
  {
   "cell_type": "markdown",
   "metadata": {},
   "source": [
    "* The `size` of an array is the number of elements while the `shape` gives how they are arranged."
   ]
  },
  {
   "cell_type": "code",
   "execution_count": 23,
   "metadata": {
    "tags": []
   },
   "outputs": [
    {
     "name": "stdout",
     "output_type": "stream",
     "text": [
      "4\n",
      "8\n"
     ]
    }
   ],
   "source": [
    "print(x.size)  # or equivalently np.size(x)\n",
    "print(M.size)"
   ]
  },
  {
   "cell_type": "code",
   "execution_count": 24,
   "metadata": {
    "tags": []
   },
   "outputs": [
    {
     "name": "stdout",
     "output_type": "stream",
     "text": [
      "(4,)\n",
      "(2, 4)\n"
     ]
    }
   ],
   "source": [
    "print(x.shape)  # or equivalently np.shape(x)\n",
    "print(M.shape)"
   ]
  },
  {
   "cell_type": "markdown",
   "metadata": {},
   "source": [
    "* The element access, assignment, type, copy is common and similar to the list type."
   ]
  },
  {
   "cell_type": "code",
   "execution_count": 25,
   "metadata": {
    "tags": []
   },
   "outputs": [
    {
     "name": "stdout",
     "output_type": "stream",
     "text": [
      "[ 1.   2.5  5.  10. ]\n",
      "5.0 10.0\n",
      "[10.   5.   2.5  1. ]\n",
      "[ 6.1554  2.5     5.     10.    ]\n"
     ]
    }
   ],
   "source": [
    "print(x)\n",
    "print(x[2], x[-1])\n",
    "print(x[::-1])\n",
    "x[0] = 6.1554\n",
    "print(x)"
   ]
  },
  {
   "cell_type": "code",
   "execution_count": 27,
   "metadata": {
    "tags": []
   },
   "outputs": [
    {
     "name": "stdout",
     "output_type": "stream",
     "text": [
      "[ 1.   2.5  5.  10. ]\n",
      "[ 1.   2.5  5.  10. ]\n",
      "[ 1.   2.5  5.  10. ]\n"
     ]
    }
   ],
   "source": [
    "v = x\n",
    "w = np.copy(x)\n",
    "print(v)\n",
    "x[0] = 1\n",
    "print(v)\n",
    "print(w)"
   ]
  },
  {
   "cell_type": "code",
   "execution_count": 31,
   "metadata": {
    "tags": []
   },
   "outputs": [
    {
     "name": "stdout",
     "output_type": "stream",
     "text": [
      "[[ 0.25  6.2   1.   10.  ]\n",
      " [12.    6.2   6.   -5.3 ]]\n",
      "6.0 <class 'numpy.float64'>\n",
      "[12.   6.2  6.  -5.3] <class 'numpy.ndarray'> (4,)\n",
      "[12.   6.2  6.  -5.3]\n",
      "[ 0.25 12.  ]\n"
     ]
    }
   ],
   "source": [
    "print(M)\n",
    "print(M[1, 2], type(M[1, 2]))\n",
    "print(M[1, :], type(M[1, :]), M[1, :].shape)\n",
    "print(M[1])\n",
    "print(M[:, 0])"
   ]
  },
  {
   "cell_type": "markdown",
   "metadata": {},
   "source": [
    "Advanced access to content and modification is possible"
   ]
  },
  {
   "cell_type": "code",
   "execution_count": 32,
   "metadata": {
    "tags": []
   },
   "outputs": [
    {
     "name": "stdout",
     "output_type": "stream",
     "text": [
      "[ 1.  5. 10.]\n"
     ]
    }
   ],
   "source": [
    "x = np.array([1, 2.5, 5, 10])\n",
    "ind = [0, 2, 3]\n",
    "print(x[ind])"
   ]
  },
  {
   "cell_type": "markdown",
   "metadata": {},
   "source": [
    "### Advanced array properties [*]\n",
    "\n",
    "\n",
    "An array has a *type* that can be accessed with <tt>dtype</tt>, it the combination of a base type (<tt>int, float, complex, bool, object,</tt> etc.) and a precision in bits (<tt>int64, int16, float128, complex128</tt>)"
   ]
  },
  {
   "cell_type": "code",
   "execution_count": 33,
   "metadata": {
    "tags": []
   },
   "outputs": [
    {
     "name": "stdout",
     "output_type": "stream",
     "text": [
      "float64\n"
     ]
    }
   ],
   "source": [
    "print(x.dtype)"
   ]
  },
  {
   "cell_type": "markdown",
   "metadata": {},
   "source": [
    "Array only accept they casting to their own type. However, the type of an array can be changed."
   ]
  },
  {
   "cell_type": "code",
   "execution_count": 34,
   "metadata": {
    "tags": []
   },
   "outputs": [
    {
     "name": "stdout",
     "output_type": "stream",
     "text": [
      "float() argument must be a string or a real number, not 'complex'\n"
     ]
    }
   ],
   "source": [
    "try:\n",
    "    x[0] = 1 + 2.0j\n",
    "except Exception as e:\n",
    "    print(e)"
   ]
  },
  {
   "cell_type": "code",
   "execution_count": 35,
   "metadata": {
    "tags": []
   },
   "outputs": [
    {
     "name": "stdout",
     "output_type": "stream",
     "text": [
      "[ 1. +2.j  2.5+0.j  5. +0.j 10. +0.j] <class 'numpy.ndarray'> complex128\n"
     ]
    }
   ],
   "source": [
    "y = x.astype(complex)\n",
    "y[0] = 1 + 2.0j\n",
    "print(y, type(y), y.dtype)"
   ]
  },
  {
   "cell_type": "markdown",
   "metadata": {},
   "source": [
    "## Numpy array generation\n",
    "\n",
    "See the corresponding [documentation](https://numpy.org/doc/stable/user/basics.creation.html)"
   ]
  },
  {
   "cell_type": "markdown",
   "metadata": {},
   "source": [
    "### Number sequences\n",
    "\n",
    "\n",
    "`arange` returns an array of evenly spaced number from `start` to (at most) `stop` with a fixed jump `step` \n",
    "\n",
    "\n",
    "`linspace` returns an array of evenly spaced number from `start` to (exactly) `stop` with a fixed number of points `num`"
   ]
  },
  {
   "cell_type": "code",
   "execution_count": 36,
   "metadata": {
    "tags": []
   },
   "outputs": [
    {
     "name": "stdout",
     "output_type": "stream",
     "text": [
      "[0.  1.5 3.  4.5 6.  7.5 9. ] <class 'numpy.ndarray'>\n"
     ]
    }
   ],
   "source": [
    "x = np.arange(0, 10, 1.5)\n",
    "print(x, type(x))"
   ]
  },
  {
   "cell_type": "code",
   "execution_count": 37,
   "metadata": {
    "tags": []
   },
   "outputs": [
    {
     "name": "stdout",
     "output_type": "stream",
     "text": [
      "[ 0.          0.41666667  0.83333333  1.25        1.66666667  2.08333333\n",
      "  2.5         2.91666667  3.33333333  3.75        4.16666667  4.58333333\n",
      "  5.          5.41666667  5.83333333  6.25        6.66666667  7.08333333\n",
      "  7.5         7.91666667  8.33333333  8.75        9.16666667  9.58333333\n",
      " 10.        ] <class 'numpy.ndarray'>\n"
     ]
    }
   ],
   "source": [
    "y = np.linspace(0, 10, 25)\n",
    "print(y, type(y))"
   ]
  },
  {
   "cell_type": "markdown",
   "metadata": {},
   "source": [
    "### Zeros and Ones\n",
    "\n",
    "\n",
    "`zeros` returns an array (of floats) of zeros  of the precised `shape`\n",
    "\n",
    "`ones`  returns an array (of floats) of ones  of the precised `shape`\n",
    "\n",
    "`eye`  returns a square 2D-array (of floats) with ones on the diagonal and zeros elsewhere  "
   ]
  },
  {
   "cell_type": "code",
   "execution_count": 38,
   "metadata": {
    "tags": []
   },
   "outputs": [
    {
     "name": "stdout",
     "output_type": "stream",
     "text": [
      "[0. 0. 0.] (3,) <class 'numpy.ndarray'> float64\n",
      "[0. 0. 0.] (3,) <class 'numpy.ndarray'> float64\n"
     ]
    }
   ],
   "source": [
    "x = np.zeros(3)\n",
    "print(x, x.shape, type(x), x.dtype)\n",
    "\n",
    "x = np.zeros((3,))\n",
    "print(x, x.shape, type(x), x.dtype)"
   ]
  },
  {
   "cell_type": "code",
   "execution_count": 41,
   "metadata": {
    "tags": []
   },
   "outputs": [
    {
     "name": "stderr",
     "output_type": "stream",
     "text": [
      "2:80: E501 line too long (103 > 79 characters)\n"
     ]
    },
    {
     "name": "stdout",
     "output_type": "stream",
     "text": [
      "Cannot interpret '3' as a data type\n",
      "[[0. 0. 0.]\n",
      " [0. 0. 0.]\n",
      " [0. 0. 0.]] (3, 3) <class 'numpy.ndarray'> float64\n"
     ]
    }
   ],
   "source": [
    "try:\n",
    "    x = np.zeros(3, 3)  # This causes an error as 3,3 is not a shape, it is (3,3) -> double parentheses\n",
    "except Exception as error:\n",
    "    print(error)\n",
    "\n",
    "print(x, x.shape, type(x), x.dtype)"
   ]
  },
  {
   "cell_type": "code",
   "execution_count": 42,
   "metadata": {
    "tags": []
   },
   "outputs": [
    {
     "name": "stdout",
     "output_type": "stream",
     "text": [
      "[[0. 0. 0.]\n",
      " [0. 0. 0.]\n",
      " [0. 0. 0.]] (3, 3) <class 'numpy.ndarray'> float64\n"
     ]
    }
   ],
   "source": [
    "x = np.zeros((3, 3))\n",
    "print(x, x.shape, type(x), x.dtype)"
   ]
  },
  {
   "cell_type": "code",
   "execution_count": 43,
   "metadata": {
    "tags": []
   },
   "outputs": [
    {
     "data": {
      "text/plain": [
       "array([1., 1.])"
      ]
     },
     "execution_count": 43,
     "metadata": {},
     "output_type": "execute_result"
    }
   ],
   "source": [
    "y = np.ones(2)\n",
    "y"
   ]
  },
  {
   "cell_type": "code",
   "execution_count": 44,
   "metadata": {
    "tags": []
   },
   "outputs": [
    {
     "name": "stdout",
     "output_type": "stream",
     "text": [
      "[[1. 0. 0.]\n",
      " [0. 1. 0.]\n",
      " [0. 0. 1.]] (3, 3) <class 'numpy.ndarray'> float64\n"
     ]
    }
   ],
   "source": [
    "M = np.eye(3)\n",
    "print(M, M.shape, type(M), M.dtype)"
   ]
  },
  {
   "cell_type": "markdown",
   "metadata": {},
   "source": [
    "### Random data\n",
    "\n",
    "\n",
    "Random arrays can be generated by Numpy's [random](https://numpy.org/doc/stable/reference/random/index.html) module.\n",
    "\n",
    "\n",
    "`rand` returns an array (of floats) of uniformly distributed numbers in [0,1)  of the precised dimension\n",
    "\n",
    "`randn`  returns an array (of floats) of numbers from the normal distribution of the precised dimension\n",
    "\n",
    "`randint`  returns an array (of floats) of integers from the discrete uniform distribution"
   ]
  },
  {
   "cell_type": "code",
   "execution_count": 47,
   "metadata": {
    "tags": []
   },
   "outputs": [
    {
     "data": {
      "text/plain": [
       "array([0.58540961, 0.37478379, 0.71711457, 0.6913558 , 0.99456257])"
      ]
     },
     "execution_count": 47,
     "metadata": {},
     "output_type": "execute_result"
    }
   ],
   "source": [
    "np.random.rand(5)"
   ]
  },
  {
   "cell_type": "code",
   "execution_count": 48,
   "metadata": {
    "tags": []
   },
   "outputs": [
    {
     "data": {
      "text/plain": [
       "array([[ 0.04606386,  0.32083373],\n",
       "       [-1.62488235, -0.56531913],\n",
       "       [ 1.40698682, -0.09951438],\n",
       "       [ 0.15893702, -1.36809526],\n",
       "       [-0.61246299, -0.38834704]])"
      ]
     },
     "execution_count": 48,
     "metadata": {},
     "output_type": "execute_result"
    }
   ],
   "source": [
    "np.random.randn(5, 2)"
   ]
  },
  {
   "cell_type": "code",
   "execution_count": 50,
   "metadata": {
    "tags": []
   },
   "outputs": [
    {
     "data": {
      "text/plain": [
       "array([68, 75, 12,  6, 31, 17, 67, 61, 26, 60])"
      ]
     },
     "execution_count": 50,
     "metadata": {},
     "output_type": "execute_result"
    }
   ],
   "source": [
    "np.random.randint(0, 100, size=(10,))"
   ]
  },
  {
   "cell_type": "code",
   "execution_count": 53,
   "metadata": {
    "tags": []
   },
   "outputs": [
    {
     "data": {
      "image/png": "[encoded data removed]",
      "text/plain": [
       "<Figure size 640x480 with 1 Axes>"
      ]
     },
     "metadata": {},
     "output_type": "display_data"
    }
   ],
   "source": [
    "a = np.random.randn(10000)\n",
    "plt.figure()\n",
    "plt.hist(a, 40)  # histogram of a with 40 bins\n",
    "plt.show()"
   ]
  },
  {
   "cell_type": "markdown",
   "metadata": {},
   "source": [
    "## Operations on Matrices and vectors \n"
   ]
  },
  {
   "cell_type": "code",
   "execution_count": 54,
   "metadata": {
    "tags": []
   },
   "outputs": [
    {
     "name": "stdout",
     "output_type": "stream",
     "text": [
      "[0 1 2 3 4]\n"
     ]
    }
   ],
   "source": [
    "v = np.arange(0, 5)\n",
    "print(v)"
   ]
  },
  {
   "cell_type": "code",
   "execution_count": 55,
   "metadata": {
    "tags": []
   },
   "outputs": [
    {
     "data": {
      "text/plain": [
       "array([0, 2, 4, 6, 8])"
      ]
     },
     "execution_count": 55,
     "metadata": {},
     "output_type": "execute_result"
    }
   ],
   "source": [
    "v * 2"
   ]
  },
  {
   "cell_type": "code",
   "execution_count": 56,
   "metadata": {
    "tags": []
   },
   "outputs": [
    {
     "data": {
      "text/plain": [
       "array([2.5, 3.5, 4.5, 5.5, 6.5])"
      ]
     },
     "execution_count": 56,
     "metadata": {},
     "output_type": "execute_result"
    }
   ],
   "source": [
    "v + 2.5"
   ]
  },
  {
   "cell_type": "code",
   "execution_count": 57,
   "metadata": {
    "tags": []
   },
   "outputs": [
    {
     "name": "stdout",
     "output_type": "stream",
     "text": [
      "[ 0  1  4  9 16] [0.         1.         1.41421356 1.73205081 2.        ]\n"
     ]
    }
   ],
   "source": [
    "square = v**2\n",
    "root = np.sqrt(v)\n",
    "print(square, root)"
   ]
  },
  {
   "cell_type": "code",
   "execution_count": 61,
   "metadata": {
    "tags": []
   },
   "outputs": [
    {
     "data": {
      "image/png": "[encoded data removed]",
      "text/plain": [
       "<Figure size 640x480 with 2 Axes>"
      ]
     },
     "metadata": {},
     "output_type": "display_data"
    },
    {
     "name": "stderr",
     "output_type": "stream",
     "text": [
      "6:35: W605 invalid escape sequence '\\s'\n"
     ]
    }
   ],
   "source": [
    "plt.figure()\n",
    "plt.subplot(1, 2, 1)\n",
    "plt.plot(square, 'g--', label='$y = x^2$')\n",
    "plt.legend(loc=0)\n",
    "plt.subplot(1, 2, 2)\n",
    "plt.plot(root, 'r*-', label='$y = \\sqrt{x}$')\n",
    "plt.legend(loc=2)\n",
    "plt.show()"
   ]
  },
  {
   "cell_type": "code",
   "execution_count": 62,
   "metadata": {
    "tags": []
   },
   "outputs": [
    {
     "name": "stdout",
     "output_type": "stream",
     "text": [
      "[[ 0  1  2  3  4]\n",
      " [10 11 12 13 14]\n",
      " [20 21 22 23 24]\n",
      " [30 31 32 33 34]]\n"
     ]
    }
   ],
   "source": [
    "A = np.array([[n + m*10 for n in range(5)] for m in range(4)])\n",
    "print(A)"
   ]
  },
  {
   "cell_type": "code",
   "execution_count": 63,
   "metadata": {
    "tags": []
   },
   "outputs": [
    {
     "data": {
      "text/plain": [
       "array([[ 0,  2,  4,  6,  8],\n",
       "       [20, 22, 24, 26, 28],\n",
       "       [40, 42, 44, 46, 48],\n",
       "       [60, 62, 64, 66, 68]])"
      ]
     },
     "execution_count": 63,
     "metadata": {},
     "output_type": "execute_result"
    }
   ],
   "source": [
    "A * 2"
   ]
  },
  {
   "cell_type": "code",
   "execution_count": 64,
   "metadata": {
    "tags": []
   },
   "outputs": [
    {
     "data": {
      "text/plain": [
       "array([[ 2.5,  3.5,  4.5,  5.5,  6.5],\n",
       "       [12.5, 13.5, 14.5, 15.5, 16.5],\n",
       "       [22.5, 23.5, 24.5, 25.5, 26.5],\n",
       "       [32.5, 33.5, 34.5, 35.5, 36.5]])"
      ]
     },
     "execution_count": 64,
     "metadata": {},
     "output_type": "execute_result"
    }
   ],
   "source": [
    "A + 2.5"
   ]
  },
  {
   "cell_type": "markdown",
   "metadata": {},
   "source": [
    "Matrices can be visualized as images."
   ]
  },
  {
   "cell_type": "code",
   "execution_count": 66,
   "metadata": {
    "tags": []
   },
   "outputs": [
    {
     "data": {
      "image/png": "[encoded data removed]",
      "text/plain": [
       "<Figure size 640x480 with 2 Axes>"
      ]
     },
     "metadata": {},
     "output_type": "display_data"
    }
   ],
   "source": [
    "C = np.random.randn(100, 100)\n",
    "plt.figure()\n",
    "plt.imshow(C)\n",
    "plt.colorbar()\n",
    "plt.show()"
   ]
  },
  {
   "cell_type": "markdown",
   "metadata": {},
   "source": [
    "## Matrix and vector operations\n",
    "\n",
    "\n",
    "\n",
    "*Warning:* Operation symbols `+   -   *  /` correspond to *elementwise* operations! To perform, matrix/vector multiplication, dedicated function must be used. \n",
    "\n",
    "### Elementwise operations"
   ]
  },
  {
   "cell_type": "code",
   "execution_count": 68,
   "metadata": {
    "tags": []
   },
   "outputs": [
    {
     "name": "stdout",
     "output_type": "stream",
     "text": [
      "[[ 0  1  2  3  4]\n",
      " [10 11 12 13 14]\n",
      " [20 21 22 23 24]\n",
      " [30 31 32 33 34]] [2 4 1 4 1]\n"
     ]
    }
   ],
   "source": [
    "A = np.array([[n + m*10 for n in range(5)] for m in range(4)])\n",
    "v = np.random.randint(0, 5, 5)\n",
    "print(A, v)"
   ]
  },
  {
   "cell_type": "code",
   "execution_count": 69,
   "metadata": {
    "tags": []
   },
   "outputs": [
    {
     "data": {
      "text/plain": [
       "array([[   0,    1,    4,    9,   16],\n",
       "       [ 100,  121,  144,  169,  196],\n",
       "       [ 400,  441,  484,  529,  576],\n",
       "       [ 900,  961, 1024, 1089, 1156]])"
      ]
     },
     "execution_count": 69,
     "metadata": {},
     "output_type": "execute_result"
    }
   ],
   "source": [
    "A * A"
   ]
  },
  {
   "cell_type": "code",
   "execution_count": 70,
   "metadata": {
    "tags": []
   },
   "outputs": [
    {
     "data": {
      "text/plain": [
       "array([ 4, 16,  1, 16,  1])"
      ]
     },
     "execution_count": 70,
     "metadata": {},
     "output_type": "execute_result"
    }
   ],
   "source": [
    "v * v"
   ]
  },
  {
   "cell_type": "code",
   "execution_count": 71,
   "metadata": {
    "tags": []
   },
   "outputs": [
    {
     "data": {
      "text/plain": [
       "array([[  0,   4,   2,  12,   4],\n",
       "       [ 20,  44,  12,  52,  14],\n",
       "       [ 40,  84,  22,  92,  24],\n",
       "       [ 60, 124,  32, 132,  34]])"
      ]
     },
     "execution_count": 71,
     "metadata": {},
     "output_type": "execute_result"
    }
   ],
   "source": [
    "A * v"
   ]
  },
  {
   "cell_type": "markdown",
   "metadata": {},
   "source": [
    "### Transposition\n",
    "\n",
    "It can be useful to transpose, it is simply done by suffixing `.T` (or equivalently using the function `np.transpose`). Similarly `.H` is the Hermitian conjugate,  `.imag`  `.real` are the real and imaginary parts and  `.abs` the modulus (their *full* versions are respectively `np.conjugate`, `np.imag`, etc.)"
   ]
  },
  {
   "cell_type": "code",
   "execution_count": 72,
   "metadata": {
    "tags": []
   },
   "outputs": [
    {
     "name": "stdout",
     "output_type": "stream",
     "text": [
      "[[ 0  1  2  3  4]\n",
      " [10 11 12 13 14]\n",
      " [20 21 22 23 24]\n",
      " [30 31 32 33 34]] (4, 5)\n",
      "[[ 0 10 20 30]\n",
      " [ 1 11 21 31]\n",
      " [ 2 12 22 32]\n",
      " [ 3 13 23 33]\n",
      " [ 4 14 24 34]] (5, 4)\n"
     ]
    }
   ],
   "source": [
    "print(A, A.shape)\n",
    "print(A.T, A.T.shape)"
   ]
  },
  {
   "cell_type": "markdown",
   "metadata": {},
   "source": [
    "### Matrix/vector operations\n",
    "\n",
    "$y=Av$ can be obtained by `y = A.dot(v)` (or equivalently `y = np.dot(A,v)`). This methods works for array with *compatible shape* (matrix-matrix, matrix-vector, vector-matrix, vector-vector, etc).\n"
   ]
  },
  {
   "cell_type": "code",
   "execution_count": 74,
   "metadata": {
    "tags": []
   },
   "outputs": [
    {
     "name": "stdout",
     "output_type": "stream",
     "text": [
      "[[ 0  1  2  3  4]\n",
      " [10 11 12 13 14]\n",
      " [20 21 22 23 24]\n",
      " [30 31 32 33 34]] (4, 5) [2 4 1 4 1] (5,)\n",
      "[ 22 142 262 382] <class 'numpy.ndarray'> (4,)\n"
     ]
    }
   ],
   "source": [
    "y = np.dot(A, v)\n",
    "print(A, A.shape, v, v.shape)\n",
    "print(y, type(y), y.shape)"
   ]
  },
  {
   "cell_type": "markdown",
   "metadata": {},
   "source": [
    "Example of vector-vector multiplication i.e. a scalar product"
   ]
  },
  {
   "cell_type": "code",
   "execution_count": 75,
   "metadata": {
    "tags": []
   },
   "outputs": [
    {
     "name": "stdout",
     "output_type": "stream",
     "text": [
      "[2 4 1 4 1] 38 <class 'numpy.int64'>\n"
     ]
    }
   ],
   "source": [
    "s = v.dot(v)\n",
    "print(v, s, type(s))"
   ]
  },
  {
   "cell_type": "markdown",
   "metadata": {},
   "source": [
    "Example of non-compatible shapes"
   ]
  },
  {
   "cell_type": "code",
   "execution_count": 77,
   "metadata": {
    "tags": []
   },
   "outputs": [
    {
     "name": "stdout",
     "output_type": "stream",
     "text": [
      "shapes (4,5) and (4,5) not aligned: 5 (dim 1) != 4 (dim 0)\n"
     ]
    }
   ],
   "source": [
    "try:\n",
    "    A2 = np.dot(A, A)\n",
    "except Exception as error:\n",
    "    print(error)"
   ]
  },
  {
   "cell_type": "code",
   "execution_count": 79,
   "metadata": {
    "tags": []
   },
   "outputs": [
    {
     "name": "stdout",
     "output_type": "stream",
     "text": [
      "[[  30  130  230  330]\n",
      " [ 130  730 1330 1930]\n",
      " [ 230 1330 2430 3530]\n",
      " [ 330 1930 3530 5130]] (4, 4)\n"
     ]
    }
   ],
   "source": [
    "A3 = np.dot(A, A.T)\n",
    "print(A3, A3.shape)"
   ]
  },
  {
   "cell_type": "markdown",
   "metadata": {},
   "source": [
    "From a vector $v$, one can form the matrix $P=v v^T$ by `A=v.outer(v)` (or equivalently `np.outer(v,v)`)"
   ]
  },
  {
   "cell_type": "code",
   "execution_count": 81,
   "metadata": {
    "tags": []
   },
   "outputs": [
    {
     "name": "stdout",
     "output_type": "stream",
     "text": [
      "[[ 4  8  2  8  2]\n",
      " [ 8 16  4 16  4]\n",
      " [ 2  4  1  4  1]\n",
      " [ 8 16  4 16  4]\n",
      " [ 2  4  1  4  1]]\n"
     ]
    }
   ],
   "source": [
    "P = np.outer(v, v)\n",
    "print(P)"
   ]
  },
  {
   "cell_type": "markdown",
   "metadata": {},
   "source": [
    "### Useful Functions\n",
    "\n",
    "See the Documentation on [arrays](https://numpy.org/doc/stable/reference/arrays.ndarray.html)  and  [array creation](https://numpy.org/doc/stable/reference/routines.array-creation.html).\n",
    "\n",
    "*Warning:* Modificators such as transpose, reshape, etc. do not modify the matrix, if you want to keep the result of the operation, you have to assign a variable to it. The notable exceptions are precised as *in-place* in the documentation."
   ]
  },
  {
   "cell_type": "code",
   "execution_count": 83,
   "metadata": {
    "tags": []
   },
   "outputs": [
    {
     "data": {
      "text/plain": [
       "array([[ 0,  1,  2,  3,  4, 10, 11, 12, 13, 14],\n",
       "       [20, 21, 22, 23, 24, 30, 31, 32, 33, 34]])"
      ]
     },
     "execution_count": 83,
     "metadata": {},
     "output_type": "execute_result"
    }
   ],
   "source": [
    "A.reshape((2, 10))"
   ]
  },
  {
   "cell_type": "code",
   "execution_count": 84,
   "metadata": {
    "tags": []
   },
   "outputs": [
    {
     "name": "stdout",
     "output_type": "stream",
     "text": [
      "[[ 0  1  2  3  4]\n",
      " [10 11 12 13 14]\n",
      " [20 21 22 23 24]\n",
      " [30 31 32 33 34]]\n"
     ]
    }
   ],
   "source": [
    "print(A)"
   ]
  },
  {
   "cell_type": "code",
   "execution_count": 85,
   "metadata": {
    "tags": []
   },
   "outputs": [
    {
     "name": "stdout",
     "output_type": "stream",
     "text": [
      "[ 0  1  2  3  4 10 11 12 13 14 20 21 22 23 24 30 31 32 33 34]\n"
     ]
    }
   ],
   "source": [
    "B = A.flatten()\n",
    "print(B)"
   ]
  },
  {
   "cell_type": "code",
   "execution_count": 87,
   "metadata": {
    "tags": []
   },
   "outputs": [
    {
     "name": "stdout",
     "output_type": "stream",
     "text": [
      "66 34 19\n"
     ]
    }
   ],
   "source": [
    "print(A.trace(), A.max(), A.argmax())"
   ]
  },
  {
   "cell_type": "markdown",
   "metadata": {},
   "source": [
    "Some functions may be taken with respects to the columns with <tt>axis=0</tt> or lines with <tt>axis=1</tt>."
   ]
  },
  {
   "cell_type": "code",
   "execution_count": 89,
   "metadata": {
    "tags": []
   },
   "outputs": [
    {
     "name": "stdout",
     "output_type": "stream",
     "text": [
      "17.0 [15. 16. 17. 18. 19.] [ 2. 12. 22. 32.]\n"
     ]
    }
   ],
   "source": [
    "print(A.mean(), A.mean(axis=0), A.mean(axis=1))"
   ]
  },
  {
   "cell_type": "code",
   "execution_count": 91,
   "metadata": {
    "tags": []
   },
   "outputs": [
    {
     "name": "stdout",
     "output_type": "stream",
     "text": [
      "127.0 [125. 125. 125. 125. 125.] [1.41421356 1.41421356 1.41421356 1.41421356]\n"
     ]
    }
   ],
   "source": [
    "print(A.var(), A.var(axis=0), A.std(axis=1))"
   ]
  },
  {
   "cell_type": "markdown",
   "metadata": {},
   "source": [
    "### Repetition, concatenation"
   ]
  },
  {
   "cell_type": "code",
   "execution_count": 92,
   "metadata": {
    "tags": []
   },
   "outputs": [
    {
     "data": {
      "text/plain": [
       "array([[1, 2],\n",
       "       [3, 4]])"
      ]
     },
     "execution_count": 92,
     "metadata": {},
     "output_type": "execute_result"
    }
   ],
   "source": [
    "a = np.array([[1, 2], [3, 4]])\n",
    "a"
   ]
  },
  {
   "cell_type": "code",
   "execution_count": 93,
   "metadata": {
    "tags": []
   },
   "outputs": [
    {
     "data": {
      "text/plain": [
       "array([[5, 6]])"
      ]
     },
     "execution_count": 93,
     "metadata": {},
     "output_type": "execute_result"
    }
   ],
   "source": [
    "b = np.array([[5, 6]])\n",
    "b"
   ]
  },
  {
   "cell_type": "code",
   "execution_count": 98,
   "metadata": {
    "tags": []
   },
   "outputs": [
    {
     "data": {
      "text/plain": [
       "array([[1, 2],\n",
       "       [3, 4],\n",
       "       [5, 6]])"
      ]
     },
     "execution_count": 98,
     "metadata": {},
     "output_type": "execute_result"
    }
   ],
   "source": [
    "np.concatenate((a, b), axis=0)"
   ]
  },
  {
   "cell_type": "code",
   "execution_count": 99,
   "metadata": {
    "tags": []
   },
   "outputs": [
    {
     "data": {
      "text/plain": [
       "array([[1, 2, 5],\n",
       "       [3, 4, 6]])"
      ]
     },
     "execution_count": 99,
     "metadata": {},
     "output_type": "execute_result"
    }
   ],
   "source": [
    "np.concatenate((a, b.T), axis=1)"
   ]
  },
  {
   "cell_type": "code",
   "execution_count": 103,
   "metadata": {
    "tags": []
   },
   "outputs": [
    {
     "data": {
      "text/plain": [
       "array([[1, 2],\n",
       "       [3, 4],\n",
       "       [5, 6]])"
      ]
     },
     "execution_count": 103,
     "metadata": {},
     "output_type": "execute_result"
    }
   ],
   "source": [
    "np.vstack((a, b))"
   ]
  },
  {
   "cell_type": "code",
   "execution_count": 104,
   "metadata": {
    "tags": []
   },
   "outputs": [
    {
     "data": {
      "text/plain": [
       "array([[1, 2, 5],\n",
       "       [3, 4, 6]])"
      ]
     },
     "execution_count": 104,
     "metadata": {},
     "output_type": "execute_result"
    }
   ],
   "source": [
    "np.hstack((a, b.T))"
   ]
  },
  {
   "cell_type": "markdown",
   "metadata": {},
   "source": [
    "### Iterating on arrays"
   ]
  },
  {
   "cell_type": "code",
   "execution_count": 105,
   "metadata": {
    "tags": []
   },
   "outputs": [
    {
     "name": "stdout",
     "output_type": "stream",
     "text": [
      "1\n",
      "2\n",
      "3\n",
      "4\n"
     ]
    }
   ],
   "source": [
    "v = np.array([1, 2, 3, 4])\n",
    "\n",
    "for element in v:\n",
    "    print(element)"
   ]
  },
  {
   "cell_type": "code",
   "execution_count": 107,
   "metadata": {
    "tags": []
   },
   "outputs": [
    {
     "name": "stderr",
     "output_type": "stream",
     "text": [
      "5:1: W293 blank line contains whitespace\n"
     ]
    },
    {
     "name": "stdout",
     "output_type": "stream",
     "text": [
      "row [1 2]\n",
      "1\n",
      "2\n",
      "row [3 4]\n",
      "3\n",
      "4\n"
     ]
    }
   ],
   "source": [
    "a = np.array([[1, 2], [3, 4]])\n",
    "\n",
    "for row in a:\n",
    "    print(\"row\", row)\n",
    "    \n",
    "    for element in row:\n",
    "        print(element)"
   ]
  },
  {
   "cell_type": "markdown",
   "metadata": {},
   "source": [
    "<tt>enumerate</tt> can be used to get indexes along with elements."
   ]
  },
  {
   "cell_type": "code",
   "execution_count": 109,
   "metadata": {
    "tags": []
   },
   "outputs": [
    {
     "name": "stdout",
     "output_type": "stream",
     "text": [
      "row_idx 0 row [1 4]\n",
      "col_idx 0 element 1\n",
      "col_idx 1 element 4\n",
      "row_idx 1 row [ 9 16]\n",
      "col_idx 0 element 9\n",
      "col_idx 1 element 16\n"
     ]
    }
   ],
   "source": [
    "for row_idx, row in enumerate(a):\n",
    "    print(\"row_idx\", row_idx, \"row\", row)\n",
    "\n",
    "    for col_idx, element in enumerate(row):\n",
    "        print(\"col_idx\", col_idx, \"element\", element)\n",
    "\n",
    "        # update the matrix a: square each element\n",
    "        a[row_idx, col_idx] = element ** 2"
   ]
  },
  {
   "cell_type": "code",
   "execution_count": 110,
   "metadata": {
    "tags": []
   },
   "outputs": [
    {
     "data": {
      "text/plain": [
       "array([[  1,  16],\n",
       "       [ 81, 256]])"
      ]
     },
     "execution_count": 110,
     "metadata": {},
     "output_type": "execute_result"
    }
   ],
   "source": [
    "a"
   ]
  },
  {
   "cell_type": "markdown",
   "metadata": {},
   "source": [
    "# 3- Linear Algebra \n",
    "\n",
    "\n",
    "Numpy comes with an efficient linear algebra module named `linalg` (see the [documentation](https://numpy.org/doc/stable/reference/routines.linalg.html) ). As in many languages, the more vectorized the operations are, the more efficient.\n",
    "\n",
    "## Decompositions\n",
    "\n",
    "\n",
    "* *QR:* `linalg.qr` Factor the matrix $A$ as $QR$, where $Q$ is orthonormal and $R$ is upper-triangular.\n",
    "* *Cholesky:* `linalg.cholesky` Return the Cholesky decomposition, $L L^H$, of the square matrix $A$, where $L$ is lower-triangular. $A$ must be Hermitian and positive-definite. Only $L$ is actually returned.\n",
    "* *SVD:* `linalg.svd`  Factors the matrix $A$ as $U  \\text{diag}(s) V$, where $U$ and $V$ are unitary and $s$ is a 1-d array of $A$‘s singular values.\n",
    "\n"
   ]
  },
  {
   "cell_type": "code",
   "execution_count": 112,
   "metadata": {
    "tags": []
   },
   "outputs": [],
   "source": [
    "A = np.random.randn(3, 2)"
   ]
  },
  {
   "cell_type": "code",
   "execution_count": 113,
   "metadata": {
    "tags": []
   },
   "outputs": [
    {
     "name": "stdout",
     "output_type": "stream",
     "text": [
      "[[-1.22561769 -0.64558291]\n",
      " [-1.18952406 -0.20210782]\n",
      " [-1.58741237  0.73786503]]\n",
      "[[-0.52562496 -0.67757643]\n",
      " [-0.51014566 -0.23283681]\n",
      " [-0.68078617  0.69762254]]\n",
      "[[ 2.33173417 -0.05988938]\n",
      " [ 0.          0.99924118]]\n"
     ]
    }
   ],
   "source": [
    "Q, R = np.linalg.qr(A)\n",
    "print(A)\n",
    "print(Q)\n",
    "print(R)"
   ]
  },
  {
   "cell_type": "code",
   "execution_count": 115,
   "metadata": {
    "tags": []
   },
   "outputs": [
    {
     "data": {
      "text/plain": [
       "True"
      ]
     },
     "execution_count": 115,
     "metadata": {},
     "output_type": "execute_result"
    }
   ],
   "source": [
    "np.allclose(A, np.dot(Q, R))  # check that A=QR"
   ]
  },
  {
   "cell_type": "code",
   "execution_count": 116,
   "metadata": {
    "tags": []
   },
   "outputs": [
    {
     "name": "stdout",
     "output_type": "stream",
     "text": [
      "(3, 3) (2, 2) (2,)\n"
     ]
    }
   ],
   "source": [
    "U, s, V = np.linalg.svd(A)\n",
    "print(U.shape, V.shape, s.shape)"
   ]
  },
  {
   "cell_type": "code",
   "execution_count": 117,
   "metadata": {
    "tags": []
   },
   "outputs": [
    {
     "data": {
      "text/plain": [
       "True"
      ]
     },
     "execution_count": 117,
     "metadata": {},
     "output_type": "execute_result"
    }
   ],
   "source": [
    "S = np.zeros(A.shape)\n",
    "S[:A.shape[1], :A.shape[1]] = np.diag(s)\n",
    "np.allclose(A, np.dot(U, np.dot(S, V)))"
   ]
  },
  {
   "cell_type": "markdown",
   "metadata": {},
   "source": [
    "By default, $U$ and $V$ have the shapes $(M, M)$ and $(N, N)$  respectively if $A$ is $(M,N)$. If `full_matrices=False` is passed, the shapes are $(M, K)$ and $(K, N)$, respectively, where $K = min(M, N)$."
   ]
  },
  {
   "cell_type": "code",
   "execution_count": 118,
   "metadata": {
    "tags": []
   },
   "outputs": [
    {
     "name": "stdout",
     "output_type": "stream",
     "text": [
      "(3, 2) (2, 2) (2,)\n"
     ]
    }
   ],
   "source": [
    "U, s, V = np.linalg.svd(A, full_matrices=False)\n",
    "print(U.shape, V.shape, s.shape)"
   ]
  },
  {
   "cell_type": "code",
   "execution_count": 119,
   "metadata": {
    "tags": []
   },
   "outputs": [
    {
     "data": {
      "text/plain": [
       "True"
      ]
     },
     "execution_count": 119,
     "metadata": {},
     "output_type": "execute_result"
    }
   ],
   "source": [
    "S = np.diag(s)\n",
    "np.allclose(A, np.dot(U, np.dot(S, V)))"
   ]
  },
  {
   "cell_type": "markdown",
   "metadata": {},
   "source": [
    "## Eigenvalues\n",
    "\n",
    "`linalg.eig` compute the eigenvalues and right eigenvectors of a square array and is the main function (`linalg.eigvals` computes eigenvalues of a non-symmetric array, `linalg.eigh` returns eigenvalues and eigenvectors of a symmetric or Hermitian array)."
   ]
  },
  {
   "cell_type": "code",
   "execution_count": 125,
   "metadata": {
    "tags": []
   },
   "outputs": [
    {
     "name": "stdout",
     "output_type": "stream",
     "text": [
      "[[ 1 -1]\n",
      " [ 1  1]]\n",
      "[1.+1.j 1.-1.j]\n",
      "[[0.70710678+0.j         0.70710678-0.j        ]\n",
      " [0.        -0.70710678j 0.        +0.70710678j]]\n"
     ]
    }
   ],
   "source": [
    "A = np.array([[1, -1], [1, 1]])\n",
    "print(A)\n",
    "l, v = np.linalg.eig(A)\n",
    "print(l)\n",
    "print(v)"
   ]
  },
  {
   "cell_type": "code",
   "execution_count": 127,
   "metadata": {
    "tags": []
   },
   "outputs": [
    {
     "data": {
      "text/plain": [
       "array([0.70710678+0.70710678j, 0.70710678-0.70710678j])"
      ]
     },
     "execution_count": 127,
     "metadata": {},
     "output_type": "execute_result"
    }
   ],
   "source": [
    "A.dot(v[:, 0])"
   ]
  },
  {
   "cell_type": "markdown",
   "metadata": {},
   "source": [
    "We can check that $Ax= \\lambda x$."
   ]
  },
  {
   "cell_type": "code",
   "execution_count": 129,
   "metadata": {
    "tags": []
   },
   "outputs": [
    {
     "data": {
      "text/plain": [
       "True"
      ]
     },
     "execution_count": 129,
     "metadata": {},
     "output_type": "execute_result"
    }
   ],
   "source": [
    "np.allclose(A.dot(v[:, 0]), l[0]*v[:, 0])"
   ]
  },
  {
   "cell_type": "markdown",
   "metadata": {},
   "source": [
    "## Norms and other numbers\n",
    "\n",
    "The function `linalg.norm` is able to return one of eight different matrix norms, or one of an infinite number of vector norms (described below), depending on the value of the `ord` parameter.\n",
    "\n",
    "<table border=\"1\" class=\"docutils\">\n",
    "<colgroup>\n",
    "<col width=\"8%\" />\n",
    "<col width=\"47%\" />\n",
    "<col width=\"44%\" />\n",
    "</colgroup>\n",
    "<thead valign=\"bottom\">\n",
    "<tr class=\"row-odd\"><th class=\"head\">ord</th>\n",
    "<th class=\"head\">norm for matrices</th>\n",
    "<th class=\"head\">norm for vectors</th>\n",
    "</tr>\n",
    "</thead>\n",
    "<tbody valign=\"top\">\n",
    "<tr class=\"row-even\"><td>None</td>\n",
    "<td>Frobenius norm</td>\n",
    "<td>2-norm</td>\n",
    "</tr>\n",
    "<tr class=\"row-odd\"><td>&#8216;fro&#8217;</td>\n",
    "<td>Frobenius norm</td>\n",
    "<td>&#8211;</td>\n",
    "</tr>\n",
    "<tr class=\"row-even\"><td>&#8216;nuc&#8217;</td>\n",
    "<td>nuclear norm</td>\n",
    "<td>&#8211;</td>\n",
    "</tr>\n",
    "<tr class=\"row-odd\"><td>inf</td>\n",
    "<td>max(sum(abs(x), axis=1))</td>\n",
    "<td>max(abs(x))</td>\n",
    "</tr>\n",
    "<tr class=\"row-even\"><td>-inf</td>\n",
    "<td>min(sum(abs(x), axis=1))</td>\n",
    "<td>min(abs(x))</td>\n",
    "</tr>\n",
    "<tr class=\"row-odd\"><td>0</td>\n",
    "<td>&#8211;</td>\n",
    "<td>sum(x != 0)</td>\n",
    "</tr>\n",
    "<tr class=\"row-even\"><td>1</td>\n",
    "<td>max(sum(abs(x), axis=0))</td>\n",
    "<td>as below</td>\n",
    "</tr>\n",
    "<tr class=\"row-odd\"><td>-1</td>\n",
    "<td>min(sum(abs(x), axis=0))</td>\n",
    "<td>as below</td>\n",
    "</tr>\n",
    "<tr class=\"row-even\"><td>2</td>\n",
    "<td>2-norm (largest sing. value)</td>\n",
    "<td>as below</td>\n",
    "</tr>\n",
    "<tr class=\"row-odd\"><td>-2</td>\n",
    "<td>smallest singular value</td>\n",
    "<td>as below</td>\n",
    "</tr>\n",
    "<tr class=\"row-even\"><td>other</td>\n",
    "<td>&#8211;</td>\n",
    "<td>sum(abs(x)$^{ord}$)$^{(1./ord)}$</td>\n",
    "</tr>\n",
    "</tbody>\n",
    "</table>"
   ]
  },
  {
   "cell_type": "code",
   "execution_count": 130,
   "metadata": {
    "tags": []
   },
   "outputs": [],
   "source": [
    "a = np.arange(9) - 4\n",
    "B = a.reshape((3, 3))"
   ]
  },
  {
   "cell_type": "code",
   "execution_count": 132,
   "metadata": {
    "tags": []
   },
   "outputs": [
    {
     "name": "stdout",
     "output_type": "stream",
     "text": [
      "[-4 -3 -2 -1  0  1  2  3  4]\n",
      "none \t 7.745966692414834\n",
      "2 \t 7.745966692414834\n",
      "1 \t 20.0\n",
      "inf \t 4.0\n",
      "0 \t 8.0\n"
     ]
    }
   ],
   "source": [
    "print(a)\n",
    "print(\"none \\t\", np.linalg.norm(a))\n",
    "print(\"2 \\t\", np.linalg.norm(a, ord=2))\n",
    "print(\"1 \\t\", np.linalg.norm(a, ord=1))\n",
    "print(\"inf \\t\", np.linalg.norm(a, ord=np.inf))\n",
    "print(\"0 \\t\", np.linalg.norm(a, ord=0))"
   ]
  },
  {
   "cell_type": "code",
   "execution_count": 133,
   "metadata": {
    "tags": []
   },
   "outputs": [
    {
     "name": "stdout",
     "output_type": "stream",
     "text": [
      "[[-4 -3 -2]\n",
      " [-1  0  1]\n",
      " [ 2  3  4]]\n",
      "none \t 7.745966692414834\n",
      "2 \t 7.348469228349533\n",
      "1 \t 7.0\n",
      "inf \t 9.0\n",
      "fro \t 7.745966692414834\n"
     ]
    }
   ],
   "source": [
    "print(B)\n",
    "print(\"none \\t\", np.linalg.norm(B))\n",
    "print(\"2 \\t\", np.linalg.norm(B, ord=2))\n",
    "print(\"1 \\t\", np.linalg.norm(B, ord=1))\n",
    "print(\"inf \\t\", np.linalg.norm(B, ord=np.inf))\n",
    "print(\"fro \\t\", np.linalg.norm(B, ord='fro'))"
   ]
  },
  {
   "cell_type": "markdown",
   "metadata": {},
   "source": [
    "Other useful function include the condition number `linalg.cond`, or rank `linalg.matrix_rank` ."
   ]
  },
  {
   "cell_type": "code",
   "execution_count": 135,
   "metadata": {
    "tags": []
   },
   "outputs": [
    {
     "name": "stderr",
     "output_type": "stream",
     "text": [
      "2:1: E741 ambiguous variable name 'I'\n"
     ]
    }
   ],
   "source": [
    "A = np.array([[1, 0, -1], [0, 1, 0], [1, 0, 1]])  # some matrix\n",
    "I = np.eye(4)  # identity\n",
    "Def = np.eye(4)\n",
    "Def[0, 0] = 0  # rank deficient"
   ]
  },
  {
   "cell_type": "code",
   "execution_count": 136,
   "metadata": {
    "tags": []
   },
   "outputs": [
    {
     "name": "stdout",
     "output_type": "stream",
     "text": [
      "1.4142135623730951 1.0\n"
     ]
    }
   ],
   "source": [
    "print(np.linalg.cond(A), np.linalg.cond(I))"
   ]
  },
  {
   "cell_type": "code",
   "execution_count": 137,
   "metadata": {
    "tags": []
   },
   "outputs": [
    {
     "data": {
      "text/plain": [
       "inf"
      ]
     },
     "execution_count": 137,
     "metadata": {},
     "output_type": "execute_result"
    }
   ],
   "source": [
    "np.linalg.cond(Def)"
   ]
  },
  {
   "cell_type": "code",
   "execution_count": 138,
   "metadata": {
    "tags": []
   },
   "outputs": [
    {
     "name": "stderr",
     "output_type": "stream",
     "text": [
      "1:80: E501 line too long (85 > 79 characters)\n"
     ]
    },
    {
     "name": "stdout",
     "output_type": "stream",
     "text": [
      "3 4 3\n"
     ]
    }
   ],
   "source": [
    "print(np.linalg.matrix_rank(A), np.linalg.matrix_rank(I), np.linalg.matrix_rank(Def))"
   ]
  },
  {
   "cell_type": "markdown",
   "metadata": {},
   "source": [
    "## Solving equations and inverting matrices\n",
    "\n",
    "When $A$ is full-rank, finding $x$ such that $Ax=b$ can be done efficiently using `linalg.solve` (as a general remark it is in general bad to invert $A$ for solving such equations, although this can be done by `linalg.inv`). "
   ]
  },
  {
   "cell_type": "code",
   "execution_count": 139,
   "metadata": {
    "tags": []
   },
   "outputs": [
    {
     "name": "stdout",
     "output_type": "stream",
     "text": [
      "[[3 1]\n",
      " [1 2]]\n",
      "[9 8]\n"
     ]
    }
   ],
   "source": [
    "A = np.array([[3, 1], [1, 2]])\n",
    "b = np.array([9, 8])\n",
    "print(A)\n",
    "print(b)"
   ]
  },
  {
   "cell_type": "code",
   "execution_count": 141,
   "metadata": {
    "tags": []
   },
   "outputs": [
    {
     "name": "stdout",
     "output_type": "stream",
     "text": [
      "[2. 3.] True\n"
     ]
    }
   ],
   "source": [
    "x_sol = np.linalg.solve(A, b)\n",
    "\n",
    "print(x_sol, np.allclose(A.dot(x_sol), b))"
   ]
  },
  {
   "cell_type": "code",
   "execution_count": 142,
   "metadata": {
    "tags": []
   },
   "outputs": [
    {
     "name": "stdout",
     "output_type": "stream",
     "text": [
      "[2. 3.] True\n"
     ]
    }
   ],
   "source": [
    "A_inv = np.linalg.inv(A)\n",
    "x_sol2 = A_inv.dot(b)\n",
    "\n",
    "print(x_sol2, np.allclose(A.dot(x_sol2), b))"
   ]
  },
  {
   "cell_type": "markdown",
   "metadata": {},
   "source": [
    "Why you don't want to invert a matrix except if really needed:"
   ]
  },
  {
   "cell_type": "code",
   "execution_count": 145,
   "metadata": {
    "tags": []
   },
   "outputs": [],
   "source": [
    "N = 100\n",
    "A = np.random.randn(N, N)\n",
    "b = np.random.randn(N)"
   ]
  },
  {
   "cell_type": "code",
   "execution_count": 146,
   "metadata": {
    "tags": []
   },
   "outputs": [],
   "source": [
    "%timeit x_sol = np.linalg.solve(A,b)"
   ]
  },
  {
   "cell_type": "code",
   "execution_count": 147,
   "metadata": {
    "tags": []
   },
   "outputs": [],
   "source": [
    "%timeit A_inv = np.linalg.inv(A) ; x_sol2 = A_inv.dot(b)"
   ]
  },
  {
   "cell_type": "markdown",
   "metadata": {},
   "source": [
    "If $A$ is not full-rank, the least squares solution of $Ax=b$  (i.e $x$ that minimizes $\\|Ax-b\\|_2$) can be obtained by `linalg.lstsq` and  `linalg.pinv` give the Moore-Penrose pseudo inverse."
   ]
  },
  {
   "cell_type": "markdown",
   "metadata": {},
   "source": [
    "# 4- Exercises"
   ]
  },
  {
   "cell_type": "markdown",
   "metadata": {},
   "source": [
    "> **Exercise 1:** In polynomial regression, we are given $n$ points $(x_i,y_i)$ and fit a size-$m$ polynome $f(x) = c_0 + c_1 x + c_2 x^2 + .. + c_m x^m$ so that $f(x_i)\\approx y_i$ for all $i=1,..n$.\n",
    "> \n",
    "> In this exercise, we want to find the $m+1$ coefficients $(c_j)$ that minimize the least square error\n",
    "> $$  \\left\\| ~~~ \\underbrace{ \\left[ \\begin{array}{ccccc} 1 & x_1 & x_1^2 & .. & x_1^m \\\\ 1 & x_2 & x_2^2 & .. & x_2^m \\\\ \\vdots & \\vdots & \\vdots & \\vdots & \\vdots \\\\ 1 & x_n & x_n^2 & .. & x_n^m  \\end{array}  \\right] }_{X} ~ \\underbrace{ \\left[ \\begin{array}{c} c_0 \\\\ c_1 \\\\ c_2 \\\\ \\vdots \\\\ c_m \\end{array} \\right] }_{c} - \\underbrace{  \\left[ \\begin{array}{c} y_1 \\\\ y_2 \\\\ \\vdots \\\\ y_n \\end{array} \\right] }_{y} \\right\\|^2  $$\n",
    "> 1. Construct the matrix $X$ from the given vector $x$ below with $m=3$.\n",
    "> *  Find the optimal $c$ by solving the least square problem $\\min_c \\|Xc-y\\|^2$ using Numpy (`lstsq` and `solve`). Is the result exact (no error)?\n",
    "> * Plot the obtained polynome on the scatter plot.\n",
    "> * Redo questions 2-3 by varying the relative sizes of $n$ and $m$. What do you observe?"
   ]
  },
  {
   "cell_type": "code",
   "execution_count": 148,
   "metadata": {
    "tags": []
   },
   "outputs": [
    {
     "name": "stderr",
     "output_type": "stream",
     "text": [
      "3:7: E261 at least two spaces before inline comment\n",
      "6:40: E231 missing whitespace after ','\n"
     ]
    }
   ],
   "source": [
    "import numpy as np\n",
    "\n",
    "n = 30 # Number of sample points\n",
    "\n",
    "x = (np.random.rand(n)-0.5)*6\n",
    "y = np.sign(x)*np.maximum(np.abs(x)-1.0,0.0)"
   ]
  },
  {
   "cell_type": "code",
   "execution_count": 150,
   "metadata": {
    "tags": []
   },
   "outputs": [
    {
     "data": {
      "text/plain": [
       "<matplotlib.collections.PathCollection at 0x153785e50>"
      ]
     },
     "execution_count": 150,
     "metadata": {},
     "output_type": "execute_result"
    },
    {
     "data": {
      "image/png": "[encoded data removed]",
      "text/plain": [
       "<Figure size 640x480 with 1 Axes>"
      ]
     },
     "metadata": {},
     "output_type": "display_data"
    }
   ],
   "source": [
    "import matplotlib.pyplot as plt\n",
    "\n",
    "plt.scatter(x, y)"
   ]
  }
 ],
 "metadata": {
  "kernelspec": {
   "display_name": "Python 3 (ipykernel)",
   "language": "python",
   "name": "python3"
  },
  "language_info": {
   "codemirror_mode": {
    "name": "ipython",
    "version": 3
   },
   "file_extension": ".py",
   "mimetype": "text/x-python",
   "name": "python",
   "nbconvert_exporter": "python",
   "pygments_lexer": "ipython3",
   "version": "3.11.5"
  },
  "varInspector": {
   "cols": {
    "lenName": 16,
    "lenType": 16,
    "lenVar": 40
   },
   "kernels_config": {
    "python": {
     "delete_cmd_postfix": "",
     "delete_cmd_prefix": "del ",
     "library": "var_list.py",
     "varRefreshCmd": "print(var_dic_list())"
    },
    "r": {
     "delete_cmd_postfix": ") ",
     "delete_cmd_prefix": "rm(",
     "library": "var_list.r",
     "varRefreshCmd": "cat(var_dic_list()) "
    }
   },
   "types_to_exclude": [
    "module",
    "function",
    "builtin_function_or_method",
    "instance",
    "_Feature"
   ],
   "window_display": false
  }
 },
 "nbformat": 4,
 "nbformat_minor": 4
}
